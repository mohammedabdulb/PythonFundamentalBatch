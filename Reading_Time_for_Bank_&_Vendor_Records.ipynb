{
 "cells": [
  {
   "cell_type": "code",
   "execution_count": 1,
   "metadata": {},
   "outputs": [],
   "source": [
    "import pandas as pd\n"
   ]
  },
  {
   "cell_type": "code",
   "execution_count": 4,
   "metadata": {},
   "outputs": [],
   "source": [
    "Bank_Vendor_SFDC_read = pd.ExcelFile(\"C:\\\\Users\\\\mohd.abdul.basith.DIR\\\\OneDrive - Accenture\\\\Desktop\\\\checking PIR Data\\\\Data Sync Test for Bank & Vendor\\\\17th June SFDC Bank & Vendor Data Ext.xlsx\")"
   ]
  },
  {
   "cell_type": "code",
   "execution_count": 11,
   "metadata": {},
   "outputs": [],
   "source": [
    "import pandas as pd\n",
    "df1_asc_10_Lakh_Bank_Records = pd.read_excel(\"C:\\\\Users\\\\mohd.abdul.basith.DIR\\\\OneDrive - Accenture\\\\Desktop\\\\checking PIR Data\\\\Data Sync Test for Bank & Vendor\\\\17th June SFDC Bank & Vendor Data Ext.xlsx\", sheet_name = [0])"
   ]
  },
  {
   "cell_type": "code",
   "execution_count": 10,
   "metadata": {},
   "outputs": [],
   "source": [
    "#asc_10_Lakh_Bank_Records_df1 = pd.read_excel(Bank_Vendor_SFDC_read, sheet_name='asc 10 Lakh Bank Records',usecols = \"A,C,I\")"
   ]
  },
  {
   "cell_type": "code",
   "execution_count": null,
   "metadata": {},
   "outputs": [],
   "source": []
  }
 ],
 "metadata": {
  "kernelspec": {
   "display_name": "Python 3",
   "language": "python",
   "name": "python3"
  },
  "language_info": {
   "codemirror_mode": {
    "name": "ipython",
    "version": 3
   },
   "file_extension": ".py",
   "mimetype": "text/x-python",
   "name": "python",
   "nbconvert_exporter": "python",
   "pygments_lexer": "ipython3",
   "version": "3.7.4"
  }
 },
 "nbformat": 4,
 "nbformat_minor": 2
}
