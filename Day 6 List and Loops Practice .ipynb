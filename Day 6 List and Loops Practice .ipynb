{
 "cells": [
  {
   "cell_type": "code",
   "execution_count": 1,
   "metadata": {},
   "outputs": [
    {
     "name": "stdout",
     "output_type": "stream",
     "text": [
      "['Southwest', 'northeast', 'canada', 'abarta', 'liberty', 'heartland']\n"
     ]
    }
   ],
   "source": [
    "Bottlers =['Southwest','northeast','canada','abarta','liberty','heartland']\n",
    "print(Bottlers)"
   ]
  },
  {
   "cell_type": "code",
   "execution_count": 2,
   "metadata": {},
   "outputs": [
    {
     "name": "stdout",
     "output_type": "stream",
     "text": [
      "Each Bottler is Supported from last 4 years {'Southwest'}\n"
     ]
    }
   ],
   "source": [
    "print(f\"Each Bottler is Supported from last 4 years\",{Bottlers[0].title()} )"
   ]
  },
  {
   "cell_type": "code",
   "execution_count": 3,
   "metadata": {},
   "outputs": [
    {
     "name": "stdout",
     "output_type": "stream",
     "text": [
      "Each Bottler is Supported from last 4 years {'Northeast'}\n"
     ]
    }
   ],
   "source": [
    "print(f\"Each Bottler is Supported from last 4 years\",{Bottlers[1].title()} )"
   ]
  },
  {
   "cell_type": "code",
   "execution_count": 4,
   "metadata": {},
   "outputs": [
    {
     "name": "stdout",
     "output_type": "stream",
     "text": [
      "Each Bottler is Supported from last 4 years {'Canada'}\n"
     ]
    }
   ],
   "source": [
    "print(f\"Each Bottler is Supported from last 4 years\",{Bottlers[2].title()} )"
   ]
  },
  {
   "cell_type": "code",
   "execution_count": 5,
   "metadata": {},
   "outputs": [],
   "source": [
    "# Now to overcome this repeatative thing we will use iteration called as loops"
   ]
  },
  {
   "cell_type": "code",
   "execution_count": 6,
   "metadata": {},
   "outputs": [
    {
     "name": "stdout",
     "output_type": "stream",
     "text": [
      "Each Bottler is Supported from last 4 years {'Southwest'}\n",
      "Each Bottler is Supported from last 4 years {'Northeast'}\n",
      "Each Bottler is Supported from last 4 years {'Canada'}\n",
      "Each Bottler is Supported from last 4 years {'Abarta'}\n",
      "Each Bottler is Supported from last 4 years {'Liberty'}\n",
      "Each Bottler is Supported from last 4 years {'Heartland'}\n"
     ]
    }
   ],
   "source": [
    "for i in Bottlers:\n",
    "    print(f\"Each Bottler is Supported from last 4 years\",{i.title()} )"
   ]
  },
  {
   "cell_type": "code",
   "execution_count": 7,
   "metadata": {},
   "outputs": [
    {
     "name": "stdout",
     "output_type": "stream",
     "text": [
      "Each Bottler is Supported from last 4 years {'Southwest'}\n",
      "Each Bottler is Supported from last 4 years {'Northeast'}\n",
      "Each Bottler is Supported from last 4 years {'Canada'}\n",
      "Each Bottler is Supported from last 4 years {'Abarta'}\n",
      "Each Bottler is Supported from last 4 years {'Liberty'}\n",
      "Each Bottler is Supported from last 4 years {'Heartland'}\n",
      "Thanks it was nice journey working with you all\n"
     ]
    }
   ],
   "source": [
    "for i in Bottlers:\n",
    "    print(f\"Each Bottler is Supported from last 4 years\",{i.title()} )\n",
    "print(\"Thanks it was nice journey working with you all\")"
   ]
  },
  {
   "cell_type": "code",
   "execution_count": 8,
   "metadata": {},
   "outputs": [
    {
     "name": "stdout",
     "output_type": "stream",
     "text": [
      "['Southwest', 'northeast']\n"
     ]
    }
   ],
   "source": [
    "# Sicing of List\n",
    "print(Bottlers[0:2])"
   ]
  },
  {
   "cell_type": "code",
   "execution_count": 10,
   "metadata": {},
   "outputs": [
    {
     "name": "stdout",
     "output_type": "stream",
     "text": [
      "['Southwest', 'canada', 'liberty']\n"
     ]
    }
   ],
   "source": [
    "print(Bottlers[0:6:2])"
   ]
  },
  {
   "cell_type": "code",
   "execution_count": null,
   "metadata": {},
   "outputs": [],
   "source": []
  }
 ],
 "metadata": {
  "kernelspec": {
   "display_name": "Python 3",
   "language": "python",
   "name": "python3"
  },
  "language_info": {
   "codemirror_mode": {
    "name": "ipython",
    "version": 3
   },
   "file_extension": ".py",
   "mimetype": "text/x-python",
   "name": "python",
   "nbconvert_exporter": "python",
   "pygments_lexer": "ipython3",
   "version": "3.7.4"
  }
 },
 "nbformat": 4,
 "nbformat_minor": 2
}
