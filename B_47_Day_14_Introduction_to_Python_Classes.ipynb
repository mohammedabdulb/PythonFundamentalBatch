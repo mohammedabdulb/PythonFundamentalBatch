{
 "cells": [
  {
   "cell_type": "code",
   "execution_count": 1,
   "metadata": {},
   "outputs": [],
   "source": [
    "#Class :- It is a hight level blue print of the program , class is the keywork for defining calsses and here we have to use\n",
    "# title case for declaring the name"
   ]
  },
  {
   "cell_type": "code",
   "execution_count": 2,
   "metadata": {},
   "outputs": [],
   "source": [
    "#req :- Create a Greet class where it needs to have below methods....!!\n",
    "#1. createname \n",
    "#2. displayname\n",
    "#3. greetname"
   ]
  },
  {
   "cell_type": "code",
   "execution_count": 11,
   "metadata": {},
   "outputs": [],
   "source": [
    "class Greet: # Class\n",
    "    \"\"\"Creating a greetclass\"\"\" # doc string\n",
    "    def createname(self,username): # method\n",
    "        self.username=username     # attribute\n",
    "    def displayname(self):        # method\n",
    "        print(self.username)\n",
    "    def greetname(self):          # method\n",
    "        print(f\"Hello , {self.username.title()}\")\n",
    "    "
   ]
  },
  {
   "cell_type": "code",
   "execution_count": 13,
   "metadata": {},
   "outputs": [],
   "source": [
    "# e.g.: 1\n",
    "test = Greet() # assinging an object to the class"
   ]
  },
  {
   "cell_type": "code",
   "execution_count": 15,
   "metadata": {},
   "outputs": [],
   "source": [
    "test.createname('abdul')"
   ]
  },
  {
   "cell_type": "code",
   "execution_count": 9,
   "metadata": {},
   "outputs": [
    {
     "name": "stdout",
     "output_type": "stream",
     "text": [
      "abdul\n"
     ]
    }
   ],
   "source": [
    "test.displayname()"
   ]
  },
  {
   "cell_type": "code",
   "execution_count": 16,
   "metadata": {},
   "outputs": [
    {
     "name": "stdout",
     "output_type": "stream",
     "text": [
      "Hello , Abdul\n"
     ]
    }
   ],
   "source": [
    "test.greetname()"
   ]
  },
  {
   "cell_type": "code",
   "execution_count": 18,
   "metadata": {},
   "outputs": [],
   "source": [
    "# e.g.: 2\n",
    "xobj = Greet() # assinging an object to the class"
   ]
  },
  {
   "cell_type": "code",
   "execution_count": 19,
   "metadata": {},
   "outputs": [],
   "source": [
    "xobj.createname('friend')"
   ]
  },
  {
   "cell_type": "code",
   "execution_count": 20,
   "metadata": {},
   "outputs": [
    {
     "name": "stdout",
     "output_type": "stream",
     "text": [
      "friend\n"
     ]
    }
   ],
   "source": [
    "xobj.displayname()"
   ]
  },
  {
   "cell_type": "code",
   "execution_count": 21,
   "metadata": {},
   "outputs": [
    {
     "name": "stdout",
     "output_type": "stream",
     "text": [
      "Hello , Friend\n"
     ]
    }
   ],
   "source": [
    "xobj.greetname()"
   ]
  },
  {
   "cell_type": "code",
   "execution_count": 22,
   "metadata": {},
   "outputs": [],
   "source": [
    "# Introduction to Constructors\n",
    "# here we will user keywork def__init__(): \n",
    "#Note :- Here double underscore we have to use\n",
    "#use :- It is used for initialising the attributes or methods automatically."
   ]
  },
  {
   "cell_type": "code",
   "execution_count": 31,
   "metadata": {},
   "outputs": [],
   "source": [
    "#e.g., :\n",
    "class Dog:\n",
    "    \"\"\"Creating a Dog class\"\"\"\n",
    "    def __init__(self,name,age): # syntax of constructor def __init__():\n",
    "        self.name = name\n",
    "        self.age = age\n",
    "    def jump(self):\n",
    "        print(f\"{self.name} if now jumping on the command\")\n",
    "    def sleep(self):\n",
    "        print(f\"{self.name} if now sleeping on the command\")\n",
    "    def rollover(self):\n",
    "        print(f\"{self.name} if now rolling over the command\")\n",
    "    def detail(self):\n",
    "        print(f\"I have a dog named {self.name}\")\n",
    "        print(f\"my {self.name} is of {self.age} years old\")"
   ]
  },
  {
   "cell_type": "code",
   "execution_count": 32,
   "metadata": {},
   "outputs": [],
   "source": [
    "aobj = Dog('bruno',2)"
   ]
  },
  {
   "cell_type": "code",
   "execution_count": 26,
   "metadata": {},
   "outputs": [
    {
     "name": "stdout",
     "output_type": "stream",
     "text": [
      "bruno if now jumping on the command\n"
     ]
    }
   ],
   "source": [
    "aobj.jump()"
   ]
  },
  {
   "cell_type": "code",
   "execution_count": 27,
   "metadata": {},
   "outputs": [
    {
     "name": "stdout",
     "output_type": "stream",
     "text": [
      "bruno if now sleeping on the command\n"
     ]
    }
   ],
   "source": [
    "aobj.sleep()"
   ]
  },
  {
   "cell_type": "code",
   "execution_count": 28,
   "metadata": {},
   "outputs": [
    {
     "name": "stdout",
     "output_type": "stream",
     "text": [
      "bruno if now rolling over the command\n"
     ]
    }
   ],
   "source": [
    "aobj.rollover()"
   ]
  },
  {
   "cell_type": "code",
   "execution_count": 34,
   "metadata": {},
   "outputs": [
    {
     "name": "stdout",
     "output_type": "stream",
     "text": [
      "I have a dog named bruno\n",
      "my bruno is of 2 years old\n"
     ]
    }
   ],
   "source": [
    "aobj.detail()"
   ]
  },
  {
   "cell_type": "code",
   "execution_count": null,
   "metadata": {},
   "outputs": [],
   "source": []
  }
 ],
 "metadata": {
  "kernelspec": {
   "display_name": "Python 3",
   "language": "python",
   "name": "python3"
  },
  "language_info": {
   "codemirror_mode": {
    "name": "ipython",
    "version": 3
   },
   "file_extension": ".py",
   "mimetype": "text/x-python",
   "name": "python",
   "nbconvert_exporter": "python",
   "pygments_lexer": "ipython3",
   "version": "3.7.4"
  }
 },
 "nbformat": 4,
 "nbformat_minor": 2
}
