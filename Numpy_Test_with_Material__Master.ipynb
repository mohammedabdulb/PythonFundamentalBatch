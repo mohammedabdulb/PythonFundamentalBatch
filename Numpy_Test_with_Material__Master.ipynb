{
 "cells": [
  {
   "cell_type": "code",
   "execution_count": 1,
   "metadata": {},
   "outputs": [],
   "source": [
    "import pandas as pd\n",
    "import numpy as np\n",
    "read_xlsx1 = pd.read_excel(\"C:\\\\Users\\\\mohd.abdul.basith.DIR\\\\OneDrive - Accenture\\\\checking PIR Data\\\\Daya Sync test for MM\\\\18th June SFDC MM Data Ext.xlsx\")"
   ]
  },
  {
   "cell_type": "code",
   "execution_count": 9,
   "metadata": {},
   "outputs": [],
   "source": [
    "SFDC_MM_np_array=np.array([read_xlsx1['MATNR__c'].astype(str)+read_xlsx1['WERKS__c']]) # Correct one"
   ]
  },
  {
   "cell_type": "code",
   "execution_count": 7,
   "metadata": {},
   "outputs": [],
   "source": [
    "MARC_np_array_key=np.array([read_MARC_18th_June['Material'].astype(str)+read_MARC_18th_June['Plant']])"
   ]
  },
  {
   "cell_type": "code",
   "execution_count": 3,
   "metadata": {},
   "outputs": [],
   "source": [
    "read_MARC_18th_June = pd.read_excel(\"C:\\\\Users\\\\mohd.abdul.basith.DIR\\\\OneDrive - Accenture\\\\checking PIR Data\\\\Daya Sync test for MM\\\\Copy MARC JUNE 18.xlsx\")\n",
    "read_MARC_18th_June.fillna('abc#NA',inplace = True)"
   ]
  },
  {
   "cell_type": "code",
   "execution_count": 4,
   "metadata": {},
   "outputs": [],
   "source": [
    "new_df = pd.DataFrame(columns=['Id','Name','ZEINR__c','MATNR__c','Material_group_code__c','WERKS__c','MEINS__c','Description__c',\n",
    "                               'Jan_Code__c','MFRNR__c','MFRPN__c','MTART__c','MMSpecialGL__c','MmSpecialTaxCode__c','BSTME__c',\n",
    "                               'ProfitCenter__c','EKGRP__c','SAP_GL_Code__c','PRCTR__c','SAP_Tax_Code__c','Size__c','LGORT__c','BKLAS__c',\n",
    "                               'Del flag'],index = range(0,3000))"
   ]
  },
  {
   "cell_type": "code",
   "execution_count": 11,
   "metadata": {},
   "outputs": [
    {
     "name": "stdout",
     "output_type": "stream",
     "text": [
      " base_for_loop_count == is== 1 ['100000000000898J318' '100000000000898J345' '100000000000898J346' ...\n",
      " '100000000197962J343' '100000000197963J343' '100000000197964J343']\n"
     ]
    },
    {
     "name": "stderr",
     "output_type": "stream",
     "text": [
      "C:\\Users\\mohd.abdul.basith.DIR\\AppData\\Local\\Continuum\\anaconda3\\lib\\site-packages\\ipykernel_launcher.py:10: DeprecationWarning: elementwise comparison failed; this will raise an error in the future.\n",
      "  # Remove the CWD from sys.path while we load stuff.\n"
     ]
    }
   ],
   "source": [
    "# Writing logic with numpy\n",
    "base_for_loop_count=0\n",
    "for outsd in MARC_np_array_key:\n",
    "    #print(ind,read_xlsx1['Purchasing Info Rec.'][ind] )\n",
    "    count=0\n",
    "    base_for_loop_count+=1\n",
    "    print(' base_for_loop_count == is==',base_for_loop_count,outsd)\n",
    "    for insd in SFDC_MM_np_array:\n",
    "        count += 1\n",
    "        if( outsd == insd ):\n",
    "            print('insdie for loop Row Number is SFDC EXt is===>',count)\n",
    "            #new_df['Id'][ind]=SFDC_MM_dict[key]\n",
    "            break\n",
    "    #new_df['MATNR__c'][ind]=read_MARC_18th_June['Material'][ind]\n",
    "    "
   ]
  },
  {
   "cell_type": "code",
   "execution_count": null,
   "metadata": {},
   "outputs": [],
   "source": []
  }
 ],
 "metadata": {
  "kernelspec": {
   "display_name": "Python 3",
   "language": "python",
   "name": "python3"
  },
  "language_info": {
   "codemirror_mode": {
    "name": "ipython",
    "version": 3
   },
   "file_extension": ".py",
   "mimetype": "text/x-python",
   "name": "python",
   "nbconvert_exporter": "python",
   "pygments_lexer": "ipython3",
   "version": "3.7.4"
  }
 },
 "nbformat": 4,
 "nbformat_minor": 2
}
