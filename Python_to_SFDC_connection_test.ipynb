{
 "cells": [
  {
   "cell_type": "code",
   "execution_count": 56,
   "metadata": {},
   "outputs": [
    {
     "name": "stdout",
     "output_type": "stream",
     "text": [
      "Status: 200\n",
      "{\n",
      "    \"access_token\": \"00D5g000002HqJm!AQUAQDxiAr8dncULTVVMomSWh.UEfgC1.9C6s4FPYmGSKZnQjtKHc3VGrekbuT.x9b6fXH42L5DBCJfli4ttsemxJJD0LNLk\",\n",
      "    \"instance_url\": \"https://wise-panda-eio0yc-dev-ed.my.salesforce.com\",\n",
      "    \"id\": \"https://login.salesforce.com/id/00D5g000002HqJmEAK/0055g000001rNaeAAE\",\n",
      "    \"token_type\": \"Bearer\",\n",
      "    \"issued_at\": \"1624310271396\",\n",
      "    \"signature\": \"dIxfoEdUezAH9RF5t1TAywet8QQRyb89ZaEkkOpsq0M=\"\n",
      "}\n",
      "00D5g000002HqJm!AQUAQDxiAr8dncULTVVMomSWh.UEfgC1.9C6s4FPYmGSKZnQjtKHc3VGrekbuT.x9b6fXH42L5DBCJfli4ttsemxJJD0LNLk\n",
      "test SELECT ID, Name, BillingCity FROM Account where Name  like '%Communications%'\n",
      "Status: 200\n",
      "{\n",
      "    \"totalSize\": 1,\n",
      "    \"done\": true,\n",
      "    \"records\": [\n",
      "        {\n",
      "            \"attributes\": {\n",
      "                \"type\": \"Account\",\n",
      "                \"url\": \"/services/data/v36.0/sobjects/Account/0015g000003qoNGAAY\"\n",
      "            },\n",
      "            \"Id\": \"0015g000003qoNGAAY\",\n",
      "            \"Name\": \"Edge Communications\",\n",
      "            \"BillingCity\": \"Austin\"\n",
      "        }\n",
      "    ]\n",
      "}\n"
     ]
    }
   ],
   "source": [
    "import requests\n",
    "import json\n",
    "\n",
    "## Authorization\n",
    "\n",
    "consumer_key = \"3MVG9fe4g9fhX0E5CtyuyFQ7INJppwIyxRAE6gLATRgXsrK9gjQfUMp82yNV1it1iRMZBz7EYCEsG_kJAj4A.\"\n",
    "consumer_secret = \"17079F36902A4997DD3FEB1AB8BA3763FC070C19F6C62CCDA912CA82A1751D82\"\n",
    "username = \"abdulbasith199328@wise-panda-eio0yc.com\"\n",
    "password = \"Abdul@1234\" \n",
    "\n",
    "\n",
    "headers = { 'Content-Type': 'application/x-www-form-urlencoded' }\n",
    "body = \"grant_type=password&client_id=\" + consumer_key \\\n",
    "    + \"&client_secret=\" + consumer_secret + \"&username=\" \\\n",
    "    + username + \"&password=\" + password\n",
    "url = \"https://login.salesforce.com/services/oauth2/token\"\n",
    "resp = requests.post( url, headers= headers, data= body )\n",
    "\n",
    "\n",
    "print( 'Status: ' + str( resp.status_code ) )\n",
    "print( json.dumps( resp.json(), indent= 4 ) )\n",
    "\n",
    "print( resp.json()[ \"access_token\" ] )\n",
    "\n",
    "\n",
    "### New code from here\n",
    "\n",
    "session_id = resp.json()[ \"access_token\" ]\n",
    "headers = { 'Authorization': 'Bearer ' + session_id  }\n",
    "instance_url = resp.json()[ \"instance_url\" ]\n",
    "\n",
    "a = \"'%Communications%'\"\n",
    "query = 'SELECT ID, Name, BillingCity FROM Account where Name  like '+a\n",
    "\n",
    "# using Bulk API 1.0\n",
    "#test= query+'like '+'%Edge%'\n",
    "print('test',query)\n",
    "url = instance_url + '/services/data/v36.0/query?q=' + query\n",
    "resp = requests.get( url, headers= headers )\n",
    "\n",
    "\n",
    "jsonResponse = resp.json()\n",
    "\n",
    "\n",
    "print( 'Status: ' + str( resp.status_code ) )\n",
    "print( json.dumps( jsonResponse, indent= 4 ) )"
   ]
  },
  {
   "cell_type": "code",
   "execution_count": null,
   "metadata": {},
   "outputs": [],
   "source": []
  },
  {
   "cell_type": "code",
   "execution_count": 57,
   "metadata": {},
   "outputs": [
    {
     "data": {
      "text/html": [
       "<div>\n",
       "<style scoped>\n",
       "    .dataframe tbody tr th:only-of-type {\n",
       "        vertical-align: middle;\n",
       "    }\n",
       "\n",
       "    .dataframe tbody tr th {\n",
       "        vertical-align: top;\n",
       "    }\n",
       "\n",
       "    .dataframe thead th {\n",
       "        text-align: right;\n",
       "    }\n",
       "</style>\n",
       "<table border=\"1\" class=\"dataframe\">\n",
       "  <thead>\n",
       "    <tr style=\"text-align: right;\">\n",
       "      <th></th>\n",
       "      <th>Id</th>\n",
       "      <th>Name</th>\n",
       "      <th>BillingCity</th>\n",
       "      <th>attributes.type</th>\n",
       "      <th>attributes.url</th>\n",
       "    </tr>\n",
       "  </thead>\n",
       "  <tbody>\n",
       "    <tr>\n",
       "      <td>0</td>\n",
       "      <td>0015g000003qoNGAAY</td>\n",
       "      <td>Edge Communications</td>\n",
       "      <td>Austin</td>\n",
       "      <td>Account</td>\n",
       "      <td>/services/data/v36.0/sobjects/Account/0015g000...</td>\n",
       "    </tr>\n",
       "  </tbody>\n",
       "</table>\n",
       "</div>"
      ],
      "text/plain": [
       "                   Id                 Name BillingCity attributes.type  \\\n",
       "0  0015g000003qoNGAAY  Edge Communications      Austin         Account   \n",
       "\n",
       "                                      attributes.url  \n",
       "0  /services/data/v36.0/sobjects/Account/0015g000...  "
      ]
     },
     "execution_count": 57,
     "metadata": {},
     "output_type": "execute_result"
    }
   ],
   "source": [
    "import pandas as pd\n",
    "from pandas.io.json import json_normalize\n",
    "\n",
    "\n",
    "data = jsonResponse[ \"records\" ]\n",
    "df = pd.DataFrame.from_dict( json_normalize( data ), orient= 'columns' )\n",
    "\n",
    "df"
   ]
  },
  {
   "cell_type": "code",
   "execution_count": 5,
   "metadata": {},
   "outputs": [],
   "source": [
    "temp_prepare = pd.ExcelWriter('C:\\\\Users\\\\mohd.abdul.basith.DIR\\\\OneDrive - Accenture\\\\Desktop\\\\checking PIR Data\\\\Daya Sync test for MM\\\\Newly Created file_22nd_night.xlsx')\n",
    "# write dataframe to excel sheet named 'marks'\n",
    "df.to_excel(temp_prepare, 'TEMPLATE')\n",
    "# save the excel file\n",
    "temp_prepare.save()"
   ]
  },
  {
   "cell_type": "code",
   "execution_count": 6,
   "metadata": {},
   "outputs": [
    {
     "name": "stdout",
     "output_type": "stream",
     "text": [
      "0     0015g000003qoNGAAY\n",
      "1     0015g000003qoNHAAY\n",
      "2     0015g000003qoNIAAY\n",
      "3     0015g000003qoNJAAY\n",
      "4     0015g000003qoNKAAY\n",
      "5     0015g000003qoNLAAY\n",
      "6     0015g000003qoNMAAY\n",
      "7     0015g000003qoNNAAY\n",
      "8     0015g000003qoNOAAY\n",
      "9     0015g000003qoNPAAY\n",
      "10    0015g000003qoNQAAY\n",
      "11    0015g000003qoNRAAY\n",
      "Name: Id, dtype: object\n"
     ]
    }
   ],
   "source": [
    "print(df['Id'])"
   ]
  },
  {
   "cell_type": "code",
   "execution_count": 48,
   "metadata": {},
   "outputs": [
    {
     "name": "stdout",
     "output_type": "stream",
     "text": [
      "'abc'fg\n"
     ]
    }
   ],
   "source": [
    "single_qu = \"'abc'\" +'fg' \n",
    "print(single_qu)"
   ]
  },
  {
   "cell_type": "code",
   "execution_count": 54,
   "metadata": {},
   "outputs": [
    {
     "name": "stdout",
     "output_type": "stream",
     "text": [
      "SELECT ID, Name, BillingCity FROM Account where Name like '%Communications%'\n"
     ]
    }
   ],
   "source": [
    "a = \"'%Communications%'\"\n",
    "query = 'SELECT ID, Name, BillingCity FROM Account where Name like '+a\n",
    "print(query)"
   ]
  },
  {
   "cell_type": "code",
   "execution_count": null,
   "metadata": {},
   "outputs": [],
   "source": []
  }
 ],
 "metadata": {
  "kernelspec": {
   "display_name": "Python 3",
   "language": "python",
   "name": "python3"
  },
  "language_info": {
   "codemirror_mode": {
    "name": "ipython",
    "version": 3
   },
   "file_extension": ".py",
   "mimetype": "text/x-python",
   "name": "python",
   "nbconvert_exporter": "python",
   "pygments_lexer": "ipython3",
   "version": "3.7.4"
  }
 },
 "nbformat": 4,
 "nbformat_minor": 2
}
