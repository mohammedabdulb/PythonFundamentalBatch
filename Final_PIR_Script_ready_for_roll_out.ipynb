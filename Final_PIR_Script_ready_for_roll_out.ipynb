{
 "cells": [
  {
   "cell_type": "code",
   "execution_count": null,
   "metadata": {},
   "outputs": [],
   "source": []
  },
  {
   "cell_type": "code",
   "execution_count": null,
   "metadata": {},
   "outputs": [],
   "source": []
  },
  {
   "cell_type": "code",
   "execution_count": null,
   "metadata": {},
   "outputs": [],
   "source": []
  },
  {
   "cell_type": "code",
   "execution_count": null,
   "metadata": {},
   "outputs": [],
   "source": []
  },
  {
   "cell_type": "code",
   "execution_count": null,
   "metadata": {},
   "outputs": [],
   "source": []
  },
  {
   "cell_type": "code",
   "execution_count": 1,
   "metadata": {},
   "outputs": [],
   "source": [
    "import pandas as pd"
   ]
  },
  {
   "cell_type": "code",
   "execution_count": 5,
   "metadata": {},
   "outputs": [],
   "source": [
    "#read_xlsx = pd.read_excel(\"C:\\\\Users\\\\mohd.abdul.basith.DIR\\\\Downloads\\\\SFDC MM Data Extract.xlsx\")\n",
    "#read_xlsx = pd.read_excel(\"C:\\\\Users\\\\mohd.abdul.basith.DIR\\\\Downloads\\\\SFDC MM Data Extract.xlsx\")\n",
    "# Loading the excel file into DataFrame\n",
    "read_xlsx1 = pd.read_excel(\"C:\\\\Users\\\\mohd.abdul.basith.DIR\\\\OneDrive - Accenture\\\\Desktop\\\\checking PIR Data\\\\Now Test\\\\21st June Data Sync for PIR\\\\Copy EINE.xlsx\")\n",
    "read_xlsx2 = pd.read_excel(\"C:\\\\Users\\\\mohd.abdul.basith.DIR\\\\OneDrive - Accenture\\\\Desktop\\\\checking PIR Data\\\\Now Test\\\\21st June Data Sync for PIR\\\\Copy EINA.xlsx\")\n"
   ]
  },
  {
   "cell_type": "code",
   "execution_count": 25,
   "metadata": {},
   "outputs": [],
   "source": [
    "#xls = pd.ExcelFile(\"C:\\\\Users\\\\mohd.abdul.basith.DIR\\\\Downloads\\\\SFDC MM Data Extract.xlsx\")\n",
    "#df1 = pd.read_excel(xls, 'Sheet1')\n",
    "read_temp_PIR = pd.read_excel(\"C:\\\\Users\\\\mohd.abdul.basith.DIR\\\\OneDrive - Accenture\\\\Desktop\\\\checking PIR Data\\\\Now Test\\\\SFDC_Data_PIR.xlsx\")"
   ]
  },
  {
   "cell_type": "code",
   "execution_count": 8,
   "metadata": {},
   "outputs": [],
   "source": [
    "#read_xlsx1 = pd.read_excel(\"C:\\\\Users\\\\mohd.abdul.basith.DIR\\\\OneDrive - Accenture\\\\Desktop\\\\checking PIR Data\\\\Data Sync for PIR\\\\Copy EINE JUNE 18.xlsx\")"
   ]
  },
  {
   "cell_type": "code",
   "execution_count": 9,
   "metadata": {},
   "outputs": [],
   "source": [
    "#for index1,EINE in read_temp_PIR.:\n",
    "#for index,x in read_xlsx.iterrows():\n",
    "    \n",
    "    #print(index ,'||' ,x['Id'],'||',x['Name'],'||',x['MATNR__c'],'||',x['WERKS__c'],'||',x['Material_group_code__c'],'||',x['BSTME__c'],'||',x['Additional_Info__c'])\n",
    "    #break"
   ]
  },
  {
   "cell_type": "code",
   "execution_count": 42,
   "metadata": {},
   "outputs": [],
   "source": [
    "#print(read_xlsx)"
   ]
  },
  {
   "cell_type": "code",
   "execution_count": 12,
   "metadata": {},
   "outputs": [
    {
     "name": "stdout",
     "output_type": "stream",
     "text": [
      "5301876296 || 2800\n",
      "check 5301879096\n"
     ]
    }
   ],
   "source": [
    "#for index, row in read_xlsx1.iterrows():\n",
    "a= row['Purchasing Info Rec.']\n",
    "b= row['Purch. Organization']\n",
    "print(row['Purchasing Info Rec.'] , '||' , row['Purch. Organization'])\n",
    "check = a+b\n",
    "print('check',check)\n"
   ]
  },
  {
   "cell_type": "code",
   "execution_count": 150,
   "metadata": {},
   "outputs": [],
   "source": [
    "#read_temp_PIR = pd.read_excel(\"C:\\\\Users\\\\mohd.abdul.basith.DIR\\\\OneDrive - Accenture\\\\Desktop\\\\checking PIR Data\\\\Copy SFDC PIR.xlsx\")"
   ]
  },
  {
   "cell_type": "code",
   "execution_count": 26,
   "metadata": {},
   "outputs": [],
   "source": [
    "read_temp_PIR[\"WERKS__c\"].fillna('abc',inplace = True)"
   ]
  },
  {
   "cell_type": "code",
   "execution_count": 27,
   "metadata": {},
   "outputs": [],
   "source": [
    "read_xlsx1[\"Plant\"].fillna('abc',inplace = True)"
   ]
  },
  {
   "cell_type": "code",
   "execution_count": 28,
   "metadata": {},
   "outputs": [],
   "source": [
    "new_df = pd.DataFrame(columns=['Id','Name','INFNR__c','LIFNR__c','MATNR__c','WERKS__c','IDNLF__c','MINBM__c','Order_Unit__c',\n",
    "                               'MATKL__c','APLFZ__c','EKORG__C','PEINH__c','MWSKZ__c','EKGRP__c'],index = range(0,1000))"
   ]
  },
  {
   "cell_type": "code",
   "execution_count": 266,
   "metadata": {},
   "outputs": [],
   "source": [
    "#print(new_df)"
   ]
  },
  {
   "cell_type": "code",
   "execution_count": 23,
   "metadata": {
    "scrolled": true
   },
   "outputs": [
    {
     "name": "stdout",
     "output_type": "stream",
     "text": [
      "outside for loop Row Number is SFDC EXt is===> 82416\n"
     ]
    }
   ],
   "source": [
    "for ind in read_xlsx1.index:\n",
    "    #print(ind,read_xlsx1['Purchasing Info Rec.'][ind] )\n",
    "    count=0\n",
    "    a = read_xlsx1['Purchasing Info Rec.'][ind].astype(str)+read_xlsx1['Plant'][ind]\n",
    "    #print('a is== outside ==>',a)\n",
    "    #Note :- there is one more code below with dictionary concept\n",
    "    for ind1 in read_temp_PIR.index:\n",
    "        count += 1\n",
    "        b = read_temp_PIR['INFNR__c'][ind1].astype(str)\n",
    "        c = read_temp_PIR['WERKS__c'][ind1]\n",
    "        b = read_temp_PIR['INFNR__c'][ind1].astype(str)+read_temp_PIR['WERKS__c'][ind1]\n",
    "        #print('b is ==inside==>',b,'count== is =>',count)\n",
    "        if( b == a ):\n",
    "            new_df['Id'][ind]=read_temp_PIR['Id'][ind1]\n",
    "            break\n",
    "    print('outside for loop Row Number is SFDC EXt is===>',count)\n",
    "    #print('outside for loop outside var',a)\n",
    "    #print('outside for loop inside var' ,b)\n",
    "    new_df['Name'][ind]=read_xlsx1['Purchasing Info Rec.'][ind]\n",
    "    new_df['INFNR__c'][ind]=read_xlsx1['Purchasing Info Rec.'][ind]\n",
    "    new_df['WERKS__c'][ind] = read_xlsx1['Plant'][ind]\n",
    "    new_df['MINBM__c'][ind] = read_xlsx1['Minimum Order Qty'][ind]\n",
    "    new_df['APLFZ__c'][ind] = read_xlsx1['Planned Deliv. Time'][ind]\n",
    "    new_df['EKORG__C'][ind] = read_xlsx1['Purch. Organization'][ind]\n",
    "    new_df['PEINH__c'][ind] = read_xlsx1['Price Unit'][ind]\n",
    "    new_df['MWSKZ__c'][ind] = read_xlsx1['Tax code'][ind]\n",
    "    new_df['EKGRP__c'][ind] = read_xlsx1['Purchasing Group'][ind]\n",
    "    #break\n",
    "        #if(count == 8):\n",
    "         #break\n"
   ]
  },
  {
   "cell_type": "code",
   "execution_count": 256,
   "metadata": {},
   "outputs": [],
   "source": [
    "#print(new_df.loc[0])"
   ]
  },
  {
   "cell_type": "code",
   "execution_count": null,
   "metadata": {},
   "outputs": [],
   "source": []
  },
  {
   "cell_type": "code",
   "execution_count": 238,
   "metadata": {},
   "outputs": [],
   "source": []
  },
  {
   "cell_type": "code",
   "execution_count": 17,
   "metadata": {},
   "outputs": [],
   "source": [
    "read_xlsx2.fillna('abc',inplace = True)"
   ]
  },
  {
   "cell_type": "code",
   "execution_count": 29,
   "metadata": {},
   "outputs": [
    {
     "name": "stdout",
     "output_type": "stream",
     "text": [
      "outside 5301876296\n",
      "inside 5301876296\n",
      "1st check inside as it is matching 2820050101\n",
      "2nd check inside as it is matching 100000000006322\n",
      "3rd check inside as it is matching abc\n",
      "4th check inside as it is matching EA\n"
     ]
    }
   ],
   "source": [
    "# This code is for EINA sheet , copying EINA into base Template\n",
    "for ind in read_xlsx1.index:\n",
    "    #print(ind,read_xlsx1['Purchasing Info Rec.'][ind] )\n",
    "    count=0\n",
    "    a1 = read_xlsx1['Purchasing Info Rec.'][ind].astype(str)\n",
    "    #print('a1 is== outside ==>',a1)\n",
    "    for ind1 in read_xlsx2.index:\n",
    "        count += 1\n",
    "        b1 = read_xlsx2['Purchasing Info Rec.'][ind1].astype(str)\n",
    "        \n",
    "        #print('b is ==inside==>',b,'count== is =>',count)\n",
    "        if( b1 == a1 ):\n",
    "            print('outside',a1)\n",
    "            print('inside',b1)\n",
    "            print('1st check inside as it is matching',read_xlsx2['Vendor'][ind1])\n",
    "            print('2nd check inside as it is matching',read_xlsx2['Material'][ind1])\n",
    "            print('3rd check inside as it is matching',read_xlsx2['Vendor Material Number'][ind1])\n",
    "            print('4th check inside as it is matching',read_xlsx2['Order Unit'][ind1])\n",
    "            new_df['LIFNR__c'][ind] = read_xlsx2['Vendor'][ind1]\n",
    "            new_df['MATNR__c'][ind] = read_xlsx2['Material'][ind1]\n",
    "            new_df['IDNLF__c'][ind] = read_xlsx2['Vendor Material Number'][ind1]\n",
    "            new_df['Order_Unit__c'][ind] = read_xlsx2['Order Unit'][ind1]\n",
    "            break\n",
    "    #break\n",
    "        #if(count == 8):\n",
    "         #break"
   ]
  },
  {
   "cell_type": "code",
   "execution_count": 19,
   "metadata": {},
   "outputs": [],
   "source": []
  },
  {
   "cell_type": "code",
   "execution_count": 271,
   "metadata": {},
   "outputs": [],
   "source": [
    "#unique_id_list = read_temp_PIR['Id'].to_list()"
   ]
  },
  {
   "cell_type": "code",
   "execution_count": 275,
   "metadata": {},
   "outputs": [],
   "source": [
    "#print('List of Ids: ', unique_id_list)"
   ]
  },
  {
   "cell_type": "code",
   "execution_count": null,
   "metadata": {},
   "outputs": [],
   "source": [
    "# Wrong one ==> dict(zip(read_temp_PIR['Id'], zip(read_temp_PIR[\"value col 1\"]+read_temp_PIR['value col 1'])))"
   ]
  },
  {
   "cell_type": "code",
   "execution_count": 30,
   "metadata": {},
   "outputs": [
    {
     "name": "stdout",
     "output_type": "stream",
     "text": [
      "5300151912J343 a9B10000000CbdqEAC\n"
     ]
    }
   ],
   "source": [
    "abc_dict=dict(zip(read_temp_PIR['INFNR__c'].astype(str)+read_temp_PIR['WERKS__c'], read_temp_PIR['Id'])) # Correct one\n",
    "for key in abc_dict.keys():\n",
    "    print(key,abc_dict[key])\n",
    "    break"
   ]
  },
  {
   "cell_type": "code",
   "execution_count": 31,
   "metadata": {},
   "outputs": [
    {
     "name": "stdout",
     "output_type": "stream",
     "text": [
      "a is 5301876296J347\n",
      "insdie for loop Row Number is SFDC EXt is===> 5301876296J347 a9B1000000268N3EAI\n"
     ]
    }
   ],
   "source": [
    "for ind in read_xlsx1.index:\n",
    "    #print(ind,read_xlsx1['Purchasing Info Rec.'][ind] )\n",
    "    count=0\n",
    "    a = read_xlsx1['Purchasing Info Rec.'][ind].astype(str)+read_xlsx1['Plant'][ind]\n",
    "    print('a is',a)\n",
    "    for key in abc_dict.keys():\n",
    "        count += 1\n",
    "        if( key == a ):\n",
    "            print('insdie for loop Row Number is SFDC EXt is===>',key,abc_dict[key])\n",
    "            new_df['Id'][ind]=abc_dict[key]\n",
    "            #new_df['EKGRP__c'][ind] = read_xlsx1['Purchasing Group'][ind]\n",
    "            break\n",
    "    new_df['Name'][ind]=read_xlsx1['Purchasing Info Rec.'][ind]\n",
    "    new_df['INFNR__c'][ind]=read_xlsx1['Purchasing Info Rec.'][ind]\n",
    "    new_df['WERKS__c'][ind] = read_xlsx1['Plant'][ind]\n",
    "    new_df['MINBM__c'][ind] = read_xlsx1['Minimum Order Qty'][ind]\n",
    "    new_df['APLFZ__c'][ind] = read_xlsx1['Planned Deliv. Time'][ind]\n",
    "    new_df['EKORG__C'][ind] = read_xlsx1['Purch. Organization'][ind]\n",
    "    new_df['PEINH__c'][ind] = read_xlsx1['Price Unit'][ind]\n",
    "    new_df['MWSKZ__c'][ind] = read_xlsx1['Tax code'][ind]\n",
    "    new_df['EKGRP__c'][ind] = read_xlsx1['Purchasing Group'][ind]\n",
    "    #break\n",
    "        #if(count == 8):\n",
    "         #break"
   ]
  },
  {
   "cell_type": "code",
   "execution_count": 32,
   "metadata": {},
   "outputs": [],
   "source": [
    "# create excel writer\n",
    "temp_prepare = pd.ExcelWriter('C:\\\\Users\\\\mohd.abdul.basith.DIR\\\\OneDrive - Accenture\\\\Desktop\\\\checking PIR Data\\\\Now Test\\\\21st June Data Sync for PIR\\\\2nd_File_newly created night file of PIR.xlsx')\n",
    "# write dataframe to excel sheet named 'marks'\n",
    "new_df.to_excel(temp_prepare, 'TEMPLATE')\n",
    "# save the excel file\n",
    "temp_prepare.save()"
   ]
  },
  {
   "cell_type": "code",
   "execution_count": 36,
   "metadata": {},
   "outputs": [
    {
     "name": "stdout",
     "output_type": "stream",
     "text": [
      "a9B1000000268N3EAI\n"
     ]
    }
   ],
   "source": [
    "\n",
    "count = 0\n",
    "for key in abc_dict.keys():\n",
    "        count += 1\n",
    "        if(count == 72363):\n",
    "            print(abc_dict[key])"
   ]
  },
  {
   "cell_type": "code",
   "execution_count": null,
   "metadata": {},
   "outputs": [],
   "source": []
  }
 ],
 "metadata": {
  "kernelspec": {
   "display_name": "Python 3",
   "language": "python",
   "name": "python3"
  },
  "language_info": {
   "codemirror_mode": {
    "name": "ipython",
    "version": 3
   },
   "file_extension": ".py",
   "mimetype": "text/x-python",
   "name": "python",
   "nbconvert_exporter": "python",
   "pygments_lexer": "ipython3",
   "version": "3.7.4"
  }
 },
 "nbformat": 4,
 "nbformat_minor": 2
}
