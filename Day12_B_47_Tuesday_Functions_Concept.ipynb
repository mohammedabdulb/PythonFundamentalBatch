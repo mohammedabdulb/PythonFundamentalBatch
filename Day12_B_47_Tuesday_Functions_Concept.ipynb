{
 "cells": [
  {
   "cell_type": "code",
   "execution_count": 1,
   "metadata": {},
   "outputs": [],
   "source": [
    "#Python Functions Concept"
   ]
  },
  {
   "cell_type": "code",
   "execution_count": 2,
   "metadata": {},
   "outputs": [],
   "source": [
    "# it is used for code reusability\n",
    "# Three things to remember while defining a function\n",
    "#1) Defining or Declaring a Function\n",
    "#2) using doc-String , commenting inside a function\n",
    "#3) calling the function from outside or function call\n",
    "#) def is keywork used to define a keyword\n",
    "def greet():\n",
    "    \"\"\"creating a greet function\"\"\"\n",
    "    print(\"Hello, how are you\")"
   ]
  },
  {
   "cell_type": "code",
   "execution_count": 3,
   "metadata": {},
   "outputs": [
    {
     "name": "stdout",
     "output_type": "stream",
     "text": [
      "Hello, how are you\n"
     ]
    }
   ],
   "source": [
    "greet() # this is funciton call"
   ]
  },
  {
   "cell_type": "code",
   "execution_count": 4,
   "metadata": {},
   "outputs": [],
   "source": [
    "# Creating a function for greeting the user ......!\n",
    "def greet_user(username): # passing information to the function or parameter passing\n",
    "    \"\"\"Creating a greet funtion to greet user\"\"\"\n",
    "    print(f\"Hello, how are you boss , {username}\")"
   ]
  },
  {
   "cell_type": "code",
   "execution_count": 7,
   "metadata": {},
   "outputs": [
    {
     "name": "stdout",
     "output_type": "stream",
     "text": [
      "Hello, how are you boss , umme ayman\n"
     ]
    }
   ],
   "source": [
    "greet_user(\"umme ayman\" )"
   ]
  },
  {
   "cell_type": "code",
   "execution_count": 8,
   "metadata": {},
   "outputs": [
    {
     "name": "stdout",
     "output_type": "stream",
     "text": [
      "Hello, how are you boss , Aysha\n"
     ]
    }
   ],
   "source": [
    "greet_user(\"Aysha\")"
   ]
  },
  {
   "cell_type": "code",
   "execution_count": null,
   "metadata": {},
   "outputs": [],
   "source": [
    "# Types of arguments :-\n",
    "#1)  positional arguments\n",
    "#2) keyword arguments\n",
    "#3) default arguments\n",
    "#4) speculative or kw args\n",
    "#5) return values"
   ]
  },
  {
   "cell_type": "code",
   "execution_count": 10,
   "metadata": {},
   "outputs": [
    {
     "name": "stdout",
     "output_type": "stream",
     "text": [
      "I have a horse , named shero0\n"
     ]
    }
   ],
   "source": [
    "# Creating a describe pet funciton\n",
    "def describe_pet(animal_type,pet_name):\n",
    "    \"\"\"creating a pet details function\"\"\"\n",
    "    print(f\"I have a {animal_type} , named {pet_name}\")\n",
    "describe_pet(\"horse\",\"shero0\")"
   ]
  },
  {
   "cell_type": "code",
   "execution_count": 11,
   "metadata": {},
   "outputs": [
    {
     "name": "stdout",
     "output_type": "stream",
     "text": [
      "I have a Camel , named abdul\n"
     ]
    }
   ],
   "source": [
    "describe_pet(\"Camel\",\"abdul\")"
   ]
  },
  {
   "cell_type": "code",
   "execution_count": 12,
   "metadata": {},
   "outputs": [
    {
     "name": "stdout",
     "output_type": "stream",
     "text": [
      "I have a cat , named snowball\n"
     ]
    }
   ],
   "source": [
    "describe_pet(\"cat\",\"snowball\") #positional arguments"
   ]
  },
  {
   "cell_type": "code",
   "execution_count": 13,
   "metadata": {},
   "outputs": [
    {
     "name": "stdout",
     "output_type": "stream",
     "text": [
      "I have a shero0 , named horse\n"
     ]
    }
   ],
   "source": [
    "# keyword argument passing\n",
    "describe_pet(pet_name = \"horse\",animal_type = \"shero0\")\n",
    "#Note :- here we are changing positions but by passing keywords its accpeting as accpected"
   ]
  },
  {
   "cell_type": "code",
   "execution_count": 14,
   "metadata": {},
   "outputs": [
    {
     "name": "stdout",
     "output_type": "stream",
     "text": [
      "I have a dog , named shero0\n"
     ]
    }
   ],
   "source": [
    "# Defualt Args\n",
    "# Note :- Default args should be placed at last\n",
    "def describe_pet(pet_name , animal_type = \"dog\"):\n",
    "    \"\"\"creating a pet details function\"\"\"\n",
    "    print(f\"I have a {animal_type} , named {pet_name}\")\n",
    "describe_pet(\"shero0\")"
   ]
  },
  {
   "cell_type": "code",
   "execution_count": 16,
   "metadata": {},
   "outputs": [
    {
     "name": "stdout",
     "output_type": "stream",
     "text": [
      "I have a cat , named shero0\n"
     ]
    }
   ],
   "source": [
    "describe_pet(\"shero0\",\"cat\") # here we are overwriting the defualt value that is from dog to cat"
   ]
  },
  {
   "cell_type": "code",
   "execution_count": null,
   "metadata": {},
   "outputs": [],
   "source": []
  }
 ],
 "metadata": {
  "kernelspec": {
   "display_name": "Python 3",
   "language": "python",
   "name": "python3"
  },
  "language_info": {
   "codemirror_mode": {
    "name": "ipython",
    "version": 3
   },
   "file_extension": ".py",
   "mimetype": "text/x-python",
   "name": "python",
   "nbconvert_exporter": "python",
   "pygments_lexer": "ipython3",
   "version": "3.7.4"
  }
 },
 "nbformat": 4,
 "nbformat_minor": 2
}
