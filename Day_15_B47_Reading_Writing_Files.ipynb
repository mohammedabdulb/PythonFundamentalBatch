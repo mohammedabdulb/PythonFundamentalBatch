{
 "cells": [
  {
   "cell_type": "code",
   "execution_count": 12,
   "metadata": {},
   "outputs": [],
   "source": [
    "with open('TSRController.txt') as file_object:\n",
    "    contents = file_object.read()"
   ]
  },
  {
   "cell_type": "code",
   "execution_count": 13,
   "metadata": {},
   "outputs": [
    {
     "name": "stdout",
     "output_type": "stream",
     "text": [
      "public without Sharing class TSRController {   \n",
      "    \n",
      "    @AuraEnabled(cacheable=true)\n",
      "    public static List<TrainingWrapper> fetchTrainings(String employeeId) {\n",
      "        List<TrainingWrapper> twList = new List<TrainingWrapper>();\n",
      "        if(String.isNotBlank(employeeId)){\n",
      "            ID NHRECORDTYPEID =  Schema.SObjectType.Trainings__c.getRecordTypeInfosByName().get('T3/NE New Hire').getRecordTypeId();\n",
      "            String phoneToolTitle = null;\n",
      "            system.debug(employeeId);\n",
      "            Employee__c empRec = [SELECT Id, Location__r.Location__Latitude__s, Location__r.Location__Longitude__s,(SELECT Id,Phone_Tool_Title__c From Training_Details__r ORDER BY CreatedDate DESC LIMIT 1) \n",
      "                                  FROM Employee__c\n",
      "                                  WHERE Id =: employeeId];\n",
      "            if(!empRec.Training_Details__r.IsEmpty()){\n",
      "                if(empRec.Training_Details__r[0].Phone_Tool_Title__c != null)\n",
      "                phoneToolTitle ='%' + empRec.Training_Details__r[0].Phone_Tool_Title__c  + '%';\n",
      "            }\n",
      "                                  \n",
      "            List<Trainings__c> trList = new List<Trainings__c>();\n",
      "            //String query = 'SELECT Id,Name,Location__r.Location__Latitude__s,Location__r.Location__Longitude__s FROM Trainings__c WHERE Unscheduled__c = True AND RecordTypeId =: NHRECORDTYPEID AND Process_Path__r.Name Like: phoneToolTitle';\n",
      "            trList = [SELECT Id,Name,Location__r.Location__Latitude__s,Location__r.Location__Longitude__s,Start_Time__c, End_Time__c, Working_Days__c, Process_Path__r.Name FROM Trainings__c WHERE Unscheduled__c = True AND RecordTypeId =: NHRECORDTYPEID AND Process_Path__r.Name Like: phoneToolTitle];\n",
      "            \n",
      "            if(!trList.IsEmpty()){\n",
      "                for(Trainings__c trec: trList){\n",
      "                    TrainingWrapper twRec = new TrainingWrapper();\n",
      "                    twRec.trainingRec = trec;\n",
      "                    if(empRec.Location__r.Location__Latitude__s != null && empRec.Location__r.Location__Longitude__s != null && trec.Location__r.Location__Latitude__s != null && trec.Location__r.Location__Longitude__s != null)\n",
      "                    {\n",
      "                        Location homeLocation = Location.newInstance(empRec.Location__r.Location__Latitude__s,empRec.Location__r.Location__Longitude__s);\n",
      "                        Location siteLocation = Location.newInstance(trec.Location__r.Location__Latitude__s,trec.Location__r.Location__Longitude__s);\n",
      "                        twRec.distance = Location.getDistance(homeLocation, siteLocation, 'mi').round();\n",
      "                        twList.add(twRec);\n",
      "                    }\n",
      "                    if(trec.Start_Time__c != null)\n",
      "                    twRec.startTime = String.valueOf(trec.Start_Time__c);\n",
      "                    else\n",
      "                    twRec.startTime = null;    \n",
      "                    if(trec.End_Time__c != null)\n",
      "                    twRec.endTime = String.valueOf(trec.End_Time__c);\n",
      "                    else\n",
      "                    twRec.endTime = null;       \n",
      "                }\n",
      "            }   \n",
      "            \n",
      "            if(!twList.IsEmpty()){\n",
      "                twList.sort();\n",
      "            }\n",
      "        }\n",
      "        return twList;\n",
      "    }\n",
      "    \n",
      "    @AuraEnabled\n",
      "    public static String assignEmployees(String sessionId,String employeId,String event){\n",
      "        try{\n",
      "        Map<String, Object> eventMap = (Map<String, Object>) JSON.deserializeUntyped(event);    \n",
      "        List<Employee_Session__c> empSessions = new List<Employee_Session__c>();\n",
      "        empSessions = [Select Id,Employee__c From Employee_Session__c WHERE Employee__c =: employeId AND Session__c =: sessionId];\n",
      "        if(empSessions.Isempty()){\n",
      "            String startFDate = FullCalendarController.dateStringLocale((String)eventMap.get('start'));            \n",
      "            String startdate = startFDate != null ? \n",
      "                                startFDate.replace('T', ' ').replace('.000Z', '') : \n",
      "                                null;\n",
      "            Employee_Session__c empSessionRec = new Employee_Session__c();\n",
      "            empSessionRec.Session__c =  sessionId;\n",
      "            empSessionRec.Employee__c = employeId;\n",
      "            empSessionRec.NE_Start_Date_Time__c = startdate != null ? Datetime.valueOf(startdate) : null;\n",
      "            \t\n",
      "            insert empSessionRec;\n",
      "        }\n",
      "        return 'Success';\n",
      "        }\n",
      "        catch(Exception e){\n",
      "            throw new AuraHandledException('Error Please assign after sometime');\n",
      "        }\n",
      "    }\n",
      "    \n",
      "}\n"
     ]
    }
   ],
   "source": [
    "print(contents)"
   ]
  },
  {
   "cell_type": "code",
   "execution_count": 14,
   "metadata": {},
   "outputs": [
    {
     "name": "stdout",
     "output_type": "stream",
     "text": [
      "public without Sharing class TSRController {   \n",
      "    \n",
      "    @AuraEnabled(cacheable=true)\n",
      "    public static List<TrainingWrapper> fetchTrainings(String employeeId) {\n",
      "        List<TrainingWrapper> twList = new List<TrainingWrapper>();\n",
      "        if(String.isNotBlank(employeeId)){\n",
      "            ID NHRECORDTYPEID =  Schema.SObjectType.Trainings__c.getRecordTypeInfosByName().get('T3/NE New Hire').getRecordTypeId();\n",
      "            String phoneToolTitle = null;\n",
      "            system.debug(employeeId);\n",
      "            Employee__c empRec = [SELECT Id, Location__r.Location__Latitude__s, Location__r.Location__Longitude__s,(SELECT Id,Phone_Tool_Title__c From Training_Details__r ORDER BY CreatedDate DESC LIMIT 1) \n",
      "                                  FROM Employee__c\n",
      "                                  WHERE Id =: employeeId];\n",
      "            if(!empRec.Training_Details__r.IsEmpty()){\n",
      "                if(empRec.Training_Details__r[0].Phone_Tool_Title__c != null)\n",
      "                phoneToolTitle ='%' + empRec.Training_Details__r[0].Phone_Tool_Title__c  + '%';\n",
      "            }\n",
      "                                  \n",
      "            List<Trainings__c> trList = new List<Trainings__c>();\n",
      "            //String query = 'SELECT Id,Name,Location__r.Location__Latitude__s,Location__r.Location__Longitude__s FROM Trainings__c WHERE Unscheduled__c = True AND RecordTypeId =: NHRECORDTYPEID AND Process_Path__r.Name Like: phoneToolTitle';\n",
      "            trList = [SELECT Id,Name,Location__r.Location__Latitude__s,Location__r.Location__Longitude__s,Start_Time__c, End_Time__c, Working_Days__c, Process_Path__r.Name FROM Trainings__c WHERE Unscheduled__c = True AND RecordTypeId =: NHRECORDTYPEID AND Process_Path__r.Name Like: phoneToolTitle];\n",
      "            \n",
      "            if(!trList.IsEmpty()){\n",
      "                for(Trainings__c trec: trList){\n",
      "                    TrainingWrapper twRec = new TrainingWrapper();\n",
      "                    twRec.trainingRec = trec;\n",
      "                    if(empRec.Location__r.Location__Latitude__s != null && empRec.Location__r.Location__Longitude__s != null && trec.Location__r.Location__Latitude__s != null && trec.Location__r.Location__Longitude__s != null)\n",
      "                    {\n",
      "                        Location homeLocation = Location.newInstance(empRec.Location__r.Location__Latitude__s,empRec.Location__r.Location__Longitude__s);\n",
      "                        Location siteLocation = Location.newInstance(trec.Location__r.Location__Latitude__s,trec.Location__r.Location__Longitude__s);\n",
      "                        twRec.distance = Location.getDistance(homeLocation, siteLocation, 'mi').round();\n",
      "                        twList.add(twRec);\n",
      "                    }\n",
      "                    if(trec.Start_Time__c != null)\n",
      "                    twRec.startTime = String.valueOf(trec.Start_Time__c);\n",
      "                    else\n",
      "                    twRec.startTime = null;    \n",
      "                    if(trec.End_Time__c != null)\n",
      "                    twRec.endTime = String.valueOf(trec.End_Time__c);\n",
      "                    else\n",
      "                    twRec.endTime = null;       \n",
      "                }\n",
      "            }   \n",
      "            \n",
      "            if(!twList.IsEmpty()){\n",
      "                twList.sort();\n",
      "            }\n",
      "        }\n",
      "        return twList;\n",
      "    }\n",
      "    \n",
      "    @AuraEnabled\n",
      "    public static String assignEmployees(String sessionId,String employeId,String event){\n",
      "        try{\n",
      "        Map<String, Object> eventMap = (Map<String, Object>) JSON.deserializeUntyped(event);    \n",
      "        List<Employee_Session__c> empSessions = new List<Employee_Session__c>();\n",
      "        empSessions = [Select Id,Employee__c From Employee_Session__c WHERE Employee__c =: employeId AND Session__c =: sessionId];\n",
      "        if(empSessions.Isempty()){\n",
      "            String startFDate = FullCalendarController.dateStringLocale((String)eventMap.get('start'));            \n",
      "            String startdate = startFDate != null ? \n",
      "                                startFDate.replace('T', ' ').replace('.000Z', '') : \n",
      "                                null;\n",
      "            Employee_Session__c empSessionRec = new Employee_Session__c();\n",
      "            empSessionRec.Session__c =  sessionId;\n",
      "            empSessionRec.Employee__c = employeId;\n",
      "            empSessionRec.NE_Start_Date_Time__c = startdate != null ? Datetime.valueOf(startdate) : null;\n",
      "            \t\n",
      "            insert empSessionRec;\n",
      "        }\n",
      "        return 'Success';\n",
      "        }\n",
      "        catch(Exception e){\n",
      "            throw new AuraHandledException('Error Please assign after sometime');\n",
      "        }\n",
      "    }\n",
      "    \n",
      "}\n"
     ]
    }
   ],
   "source": [
    "with open('TSRController.txt') as f:\n",
    "    print(f.read())"
   ]
  },
  {
   "cell_type": "code",
   "execution_count": 26,
   "metadata": {},
   "outputs": [
    {
     "name": "stdout",
     "output_type": "stream",
     "text": [
      "python is a most demanding prog lang\n"
     ]
    }
   ],
   "source": [
    "# Append the data into the file\n",
    "with open('TSRController.txt','w') as abc:\n",
    "    abc.write(\"python is a most demanding prog lang\")\n",
    "abc.close()\n",
    "\n",
    "with open('TSRController.txt') as t:\n",
    "    print(t.read())"
   ]
  },
  {
   "cell_type": "code",
   "execution_count": 20,
   "metadata": {},
   "outputs": [],
   "source": [
    "#Note :- Here whole file is got overwritte, now lets try to append the data in the last without modifying the file."
   ]
  },
  {
   "cell_type": "code",
   "execution_count": 27,
   "metadata": {},
   "outputs": [
    {
     "name": "stdout",
     "output_type": "stream",
     "text": [
      "python is a most demanding prog lang\n",
      " python syntaxes are simple\n"
     ]
    }
   ],
   "source": [
    "# Append the data into the file\n",
    "with open('TSRController.txt','a') as abc:\n",
    "    abc.write(\"\\n python syntaxes are simple\")\n",
    "abc.close()\n",
    "\n",
    "with open('TSRController.txt') as t:\n",
    "    print(t.read())"
   ]
  },
  {
   "cell_type": "code",
   "execution_count": 28,
   "metadata": {},
   "outputs": [],
   "source": [
    "#Note :- in above example just line got appended in the last , whole file we didn't override."
   ]
  },
  {
   "cell_type": "code",
   "execution_count": 29,
   "metadata": {},
   "outputs": [
    {
     "ename": "ZeroDivisionError",
     "evalue": "division by zero",
     "output_type": "error",
     "traceback": [
      "\u001b[1;31m---------------------------------------------------------------------------\u001b[0m",
      "\u001b[1;31mZeroDivisionError\u001b[0m                         Traceback (most recent call last)",
      "\u001b[1;32m<ipython-input-29-0e1ea54e06b2>\u001b[0m in \u001b[0;36m<module>\u001b[1;34m\u001b[0m\n\u001b[0;32m      3\u001b[0m \u001b[0my\u001b[0m \u001b[1;33m=\u001b[0m \u001b[1;36m0\u001b[0m\u001b[1;33m\u001b[0m\u001b[1;33m\u001b[0m\u001b[0m\n\u001b[0;32m      4\u001b[0m \u001b[1;33m\u001b[0m\u001b[0m\n\u001b[1;32m----> 5\u001b[1;33m \u001b[0mz\u001b[0m \u001b[1;33m=\u001b[0m \u001b[0mx\u001b[0m\u001b[1;33m/\u001b[0m\u001b[1;36m0\u001b[0m\u001b[1;33m\u001b[0m\u001b[1;33m\u001b[0m\u001b[0m\n\u001b[0m\u001b[0;32m      6\u001b[0m \u001b[0mprint\u001b[0m\u001b[1;33m(\u001b[0m\u001b[0mz\u001b[0m\u001b[1;33m)\u001b[0m\u001b[1;33m\u001b[0m\u001b[1;33m\u001b[0m\u001b[0m\n",
      "\u001b[1;31mZeroDivisionError\u001b[0m: division by zero"
     ]
    }
   ],
   "source": [
    "# Try Except block :- Introduction to Exceptional Handling.\n",
    "x = 5\n",
    "y = 0\n",
    "\n",
    "z = x/0\n",
    "print(z)"
   ]
  },
  {
   "cell_type": "code",
   "execution_count": 31,
   "metadata": {},
   "outputs": [],
   "source": [
    "#note :- Here whole your code is exposed , hackers use this weak point to attack . Like ransomewhere attack happened  in past.\n",
    "# Hence you should use Exceptional handling here."
   ]
  },
  {
   "cell_type": "code",
   "execution_count": 33,
   "metadata": {},
   "outputs": [
    {
     "name": "stdout",
     "output_type": "stream",
     "text": [
      "dont try to divide a number by zero\n"
     ]
    }
   ],
   "source": [
    "try:\n",
    "    x = 5\n",
    "    y = 0\n",
    "\n",
    "    z = x/0\n",
    "    print(z)\n",
    "except ZeroDivisionError:\n",
    "    print(\"dont try to divide a number by zero\")\n",
    "    "
   ]
  },
  {
   "cell_type": "code",
   "execution_count": null,
   "metadata": {},
   "outputs": [],
   "source": []
  }
 ],
 "metadata": {
  "kernelspec": {
   "display_name": "Python 3",
   "language": "python",
   "name": "python3"
  },
  "language_info": {
   "codemirror_mode": {
    "name": "ipython",
    "version": 3
   },
   "file_extension": ".py",
   "mimetype": "text/x-python",
   "name": "python",
   "nbconvert_exporter": "python",
   "pygments_lexer": "ipython3",
   "version": "3.7.4"
  }
 },
 "nbformat": 4,
 "nbformat_minor": 2
}
