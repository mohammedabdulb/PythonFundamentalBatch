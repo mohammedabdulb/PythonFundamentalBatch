{
 "cells": [
  {
   "cell_type": "code",
   "execution_count": 2,
   "metadata": {},
   "outputs": [
    {
     "name": "stdout",
     "output_type": "stream",
     "text": [
      "tell me your dream ,I will help you in acheivingwant to be good at manners\n",
      "want to be good at manners, good wish , you will achieve it , continue doing hard work\n"
     ]
    }
   ],
   "source": [
    "message = input(\"tell me your dream ,I will help you in acheiving\")\n",
    "print(f\"{message}, good wish , you will achieve it , continue doing hard work\")"
   ]
  },
  {
   "cell_type": "code",
   "execution_count": 13,
   "metadata": {},
   "outputs": [
    {
     "name": "stdout",
     "output_type": "stream",
     "text": [
      "how old are you14\n",
      "14\n",
      "<class 'str'>\n"
     ]
    }
   ],
   "source": [
    "age = input(\"how old are you\")\n",
    "print(age)\n",
    "print(type(age))"
   ]
  },
  {
   "cell_type": "code",
   "execution_count": 10,
   "metadata": {},
   "outputs": [
    {
     "name": "stdout",
     "output_type": "stream",
     "text": [
      "is you age greater than 18, True, you are eligible to vote \n"
     ]
    }
   ],
   "source": [
    "print(f\"is you age greater than 18, {int(age) > 18}, you are eligible to vote \")\n",
    "# Note here we are using type casting by converting string to int using inbuild int function."
   ]
  },
  {
   "cell_type": "code",
   "execution_count": 18,
   "metadata": {},
   "outputs": [
    {
     "name": "stdout",
     "output_type": "stream",
     "text": [
      "how old are you12\n",
      "<class 'int'>\n",
      "try next year\n"
     ]
    }
   ],
   "source": [
    "#conditional Statements\n",
    "age = input(\"how old are you\")\n",
    "\n",
    "age = int(age)\n",
    "print(type(age))\n",
    "\n",
    "if (age >= 18):\n",
    "    print(f\"you are eligible to vote as you are >= {age}\")\n",
    "else:\n",
    "    print(\"try next year\")"
   ]
  },
  {
   "cell_type": "code",
   "execution_count": 25,
   "metadata": {},
   "outputs": [
    {
     "name": "stdout",
     "output_type": "stream",
     "text": [
      "i will identify number is event or odd for you\n",
      "\n",
      "tell me the number12\n",
      "it is even number\n"
     ]
    }
   ],
   "source": [
    "# conditinal statements with modulo funciton\n",
    "print(\"i will identify number is event or odd for you\\n\")\n",
    "number = input(\"tell me the number\")\n",
    "\n",
    "if(int(number)%2 == 0):\n",
    "    print(\"it is even number\")\n",
    "else:\n",
    "    print(\"Odd number\")"
   ]
  },
  {
   "cell_type": "code",
   "execution_count": 27,
   "metadata": {},
   "outputs": [
    {
     "name": "stdout",
     "output_type": "stream",
     "text": [
      "number is  5\n",
      "number is  6\n",
      "number is  7\n",
      "number is  8\n",
      "number is  9\n",
      "number is  10\n"
     ]
    }
   ],
   "source": [
    "# while loops concept\n",
    "# Here it starts with condition where as for loop wont start with condition but initialization\n",
    "number = 5\n",
    "while number <=10:\n",
    "    print(\"number is \",number)\n",
    "    number +=1"
   ]
  },
  {
   "cell_type": "code",
   "execution_count": null,
   "metadata": {},
   "outputs": [],
   "source": []
  }
 ],
 "metadata": {
  "kernelspec": {
   "display_name": "Python 3",
   "language": "python",
   "name": "python3"
  },
  "language_info": {
   "codemirror_mode": {
    "name": "ipython",
    "version": 3
   },
   "file_extension": ".py",
   "mimetype": "text/x-python",
   "name": "python",
   "nbconvert_exporter": "python",
   "pygments_lexer": "ipython3",
   "version": "3.7.4"
  }
 },
 "nbformat": 4,
 "nbformat_minor": 2
}
