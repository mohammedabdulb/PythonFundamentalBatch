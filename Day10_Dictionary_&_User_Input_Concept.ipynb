{
 "cells": [
  {
   "cell_type": "code",
   "execution_count": 1,
   "metadata": {},
   "outputs": [],
   "source": [
    "user = {'username':'abdulbasith199328@gmail.com','firstname':'Abdul','lastname':'Basith'}"
   ]
  },
  {
   "cell_type": "code",
   "execution_count": 2,
   "metadata": {},
   "outputs": [
    {
     "name": "stdout",
     "output_type": "stream",
     "text": [
      "{'username': 'abdulbasith199328@gmail.com', 'firstname': 'Abdul', 'lastname': 'Basith'}\n"
     ]
    }
   ],
   "source": [
    "print(user)"
   ]
  },
  {
   "cell_type": "code",
   "execution_count": 6,
   "metadata": {},
   "outputs": [
    {
     "name": "stdout",
     "output_type": "stream",
     "text": [
      "key is username : Value is abdulbasith199328@gmail.com\n",
      "key is firstname : Value is Abdul\n",
      "key is lastname : Value is Basith\n"
     ]
    }
   ],
   "source": [
    "# for loops concept w.r.t Dictionary\n",
    "for k,v in user.items():\n",
    "    print(f\"key is {k} : Value is {v}\")"
   ]
  },
  {
   "cell_type": "code",
   "execution_count": 9,
   "metadata": {},
   "outputs": [
    {
     "name": "stdout",
     "output_type": "stream",
     "text": [
      "key is username\n",
      "key is firstname\n",
      "key is lastname\n"
     ]
    }
   ],
   "source": [
    "# printing only keys\n",
    "for k in user.keys():\n",
    "    print(f\"key is {k}\")"
   ]
  },
  {
   "cell_type": "code",
   "execution_count": 10,
   "metadata": {},
   "outputs": [
    {
     "name": "stdout",
     "output_type": "stream",
     "text": [
      "value is abdulbasith199328@gmail.com\n",
      "value is Abdul\n",
      "value is Basith\n"
     ]
    }
   ],
   "source": [
    "# printing only values\n",
    "for v in user.values():\n",
    "    print(f\"value is {v}\")"
   ]
  },
  {
   "cell_type": "code",
   "execution_count": 5,
   "metadata": {},
   "outputs": [
    {
     "name": "stdout",
     "output_type": "stream",
     "text": [
      "tell me your wish code champ\n",
      " code champ\n"
     ]
    }
   ],
   "source": [
    "# user accepted input by using input method\n",
    "message = input(\"tell me your wish\")\n",
    "print(message)"
   ]
  },
  {
   "cell_type": "code",
   "execution_count": 6,
   "metadata": {},
   "outputs": [
    {
     "name": "stdout",
     "output_type": "stream",
     "text": [
      "please tell me your namebasith\n",
      "hello , basith\n"
     ]
    }
   ],
   "source": [
    "name = input(\"please tell me your name\")\n",
    "print(f\"hello , {name}\")"
   ]
  },
  {
   "cell_type": "code",
   "execution_count": null,
   "metadata": {},
   "outputs": [],
   "source": [
    "\n"
   ]
  },
  {
   "cell_type": "code",
   "execution_count": null,
   "metadata": {},
   "outputs": [],
   "source": []
  }
 ],
 "metadata": {
  "kernelspec": {
   "display_name": "Python 3",
   "language": "python",
   "name": "python3"
  },
  "language_info": {
   "codemirror_mode": {
    "name": "ipython",
    "version": 3
   },
   "file_extension": ".py",
   "mimetype": "text/x-python",
   "name": "python",
   "nbconvert_exporter": "python",
   "pygments_lexer": "ipython3",
   "version": "3.7.4"
  }
 },
 "nbformat": 4,
 "nbformat_minor": 2
}
