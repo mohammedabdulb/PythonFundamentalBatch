{
 "cells": [
  {
   "cell_type": "code",
   "execution_count": null,
   "metadata": {},
   "outputs": [],
   "source": []
  },
  {
   "cell_type": "code",
   "execution_count": null,
   "metadata": {},
   "outputs": [],
   "source": []
  },
  {
   "cell_type": "code",
   "execution_count": null,
   "metadata": {},
   "outputs": [],
   "source": []
  },
  {
   "cell_type": "code",
   "execution_count": null,
   "metadata": {},
   "outputs": [],
   "source": []
  },
  {
   "cell_type": "code",
   "execution_count": null,
   "metadata": {},
   "outputs": [],
   "source": []
  },
  {
   "cell_type": "code",
   "execution_count": 32,
   "metadata": {},
   "outputs": [],
   "source": [
    "import pandas as pd"
   ]
  },
  {
   "cell_type": "code",
   "execution_count": 71,
   "metadata": {},
   "outputs": [],
   "source": [
    "#read_xlsx = pd.read_excel(\"C:\\\\Users\\\\mohd.abdul.basith.DIR\\\\Downloads\\\\SFDC MM Data Extract.xlsx\")\n",
    "#read_xlsx = pd.read_excel(\"C:\\\\Users\\\\mohd.abdul.basith.DIR\\\\Downloads\\\\SFDC MM Data Extract.xlsx\")\n",
    "# Loading the excel file into DataFrame\n",
    "read_xlsx1 = pd.read_excel(\"C:\\\\Users\\\\mohd.abdul.basith.DIR\\\\OneDrive - Accenture\\\\Desktop\\\\checking PIR Data\\\\Copy EINE.xlsx\")\n",
    "read_xlsx2 = pd.read_excel(\"C:\\\\Users\\\\mohd.abdul.basith.DIR\\\\OneDrive - Accenture\\\\Desktop\\\\checking PIR Data\\\\Copy EINA.xlsx\")\n",
    "read_temp_PIR = pd.read_excel(\"C:\\\\Users\\\\mohd.abdul.basith.DIR\\\\OneDrive - Accenture\\\\Desktop\\\\checking PIR Data\\\\Copy SFDC PIR.xlsx\")"
   ]
  },
  {
   "cell_type": "code",
   "execution_count": 66,
   "metadata": {},
   "outputs": [],
   "source": [
    "#xls = pd.ExcelFile(\"C:\\\\Users\\\\mohd.abdul.basith.DIR\\\\Downloads\\\\SFDC MM Data Extract.xlsx\")\n",
    "#df1 = pd.read_excel(xls, 'Sheet1')"
   ]
  },
  {
   "cell_type": "code",
   "execution_count": 68,
   "metadata": {},
   "outputs": [],
   "source": [
    "read_xlsx1 = pd.read_excel(\"C:\\\\Users\\\\mohd.abdul.basith.DIR\\\\OneDrive - Accenture\\\\Desktop\\\\checking PIR Data\\\\Copy EINE.xlsx\")"
   ]
  },
  {
   "cell_type": "code",
   "execution_count": 73,
   "metadata": {},
   "outputs": [
    {
     "name": "stdout",
     "output_type": "stream",
     "text": [
      "0 || a7U10000000TN1TEAW || G_硬貨包装_WS-1/21用_ﾎﾟﾘﾉｰﾏｰｸ_110ﾐﾘ_12巻/箱_送料込 || 1000000019230 || J307 || 14111509 || CS || nan\n"
     ]
    }
   ],
   "source": [
    "#for index1,EINE in read_temp_PIR.:\n",
    "for index,x in read_xlsx.iterrows():\n",
    "    \n",
    "    print(index ,'||' ,x['Id'],'||',x['Name'],'||',x['MATNR__c'],'||',x['WERKS__c'],'||',x['Material_group_code__c'],'||',x['BSTME__c'],'||',x['Additional_Info__c'])\n",
    "    break"
   ]
  },
  {
   "cell_type": "code",
   "execution_count": 42,
   "metadata": {},
   "outputs": [],
   "source": [
    "#print(read_xlsx)"
   ]
  },
  {
   "cell_type": "code",
   "execution_count": 94,
   "metadata": {},
   "outputs": [
    {
     "name": "stdout",
     "output_type": "stream",
     "text": [
      "5300126282 || 2800\n",
      "check 5300129082\n"
     ]
    }
   ],
   "source": [
    "for index, row in read_xlsx1.iterrows():\n",
    "    a= row['Purchasing Info Rec.']\n",
    "    b= row['Purch. Organization']\n",
    "    print(row['Purchasing Info Rec.'] , '||' , row['Purch. Organization'])\n",
    "    check = a+b\n",
    "    print('check',check)\n",
    "    break"
   ]
  },
  {
   "cell_type": "code",
   "execution_count": 150,
   "metadata": {},
   "outputs": [],
   "source": [
    "read_temp_PIR = pd.read_excel(\"C:\\\\Users\\\\mohd.abdul.basith.DIR\\\\OneDrive - Accenture\\\\Desktop\\\\checking PIR Data\\\\Copy SFDC PIR.xlsx\")"
   ]
  },
  {
   "cell_type": "code",
   "execution_count": 151,
   "metadata": {},
   "outputs": [],
   "source": [
    "read_temp_PIR[\"WERKS__c\"].fillna('abc',inplace = True)"
   ]
  },
  {
   "cell_type": "code",
   "execution_count": 158,
   "metadata": {},
   "outputs": [],
   "source": [
    "read_xlsx1[\"Plant\"].fillna('abc',inplace = True)"
   ]
  },
  {
   "cell_type": "code",
   "execution_count": 232,
   "metadata": {},
   "outputs": [],
   "source": [
    "new_df = pd.DataFrame(columns=['Id','Name','INFNR__c','LIFNR__c','MATNR__c','WERKS__c','IDNLF__c','Lot_Info__c','MINBM__c','Order_Unit__c',\n",
    "                               'MATKL__c','APLFZ__c','PEINH__c','EKORG__C','MWSKZ__c','EKGRP__c'],index = range(0,1000))"
   ]
  },
  {
   "cell_type": "code",
   "execution_count": 233,
   "metadata": {},
   "outputs": [
    {
     "name": "stdout",
     "output_type": "stream",
     "text": [
      "      Id Name INFNR__c LIFNR__c MATNR__c WERKS__c IDNLF__c Lot_Info__c  \\\n",
      "0    NaN  NaN      NaN      NaN      NaN      NaN      NaN         NaN   \n",
      "1    NaN  NaN      NaN      NaN      NaN      NaN      NaN         NaN   \n",
      "2    NaN  NaN      NaN      NaN      NaN      NaN      NaN         NaN   \n",
      "3    NaN  NaN      NaN      NaN      NaN      NaN      NaN         NaN   \n",
      "4    NaN  NaN      NaN      NaN      NaN      NaN      NaN         NaN   \n",
      "..   ...  ...      ...      ...      ...      ...      ...         ...   \n",
      "995  NaN  NaN      NaN      NaN      NaN      NaN      NaN         NaN   \n",
      "996  NaN  NaN      NaN      NaN      NaN      NaN      NaN         NaN   \n",
      "997  NaN  NaN      NaN      NaN      NaN      NaN      NaN         NaN   \n",
      "998  NaN  NaN      NaN      NaN      NaN      NaN      NaN         NaN   \n",
      "999  NaN  NaN      NaN      NaN      NaN      NaN      NaN         NaN   \n",
      "\n",
      "    MINBM__c Order_Unit__c MATKL__c APLFZ__c PEINH__c EKORG__C MWSKZ__c  \\\n",
      "0        NaN           NaN      NaN      NaN      NaN      NaN      NaN   \n",
      "1        NaN           NaN      NaN      NaN      NaN      NaN      NaN   \n",
      "2        NaN           NaN      NaN      NaN      NaN      NaN      NaN   \n",
      "3        NaN           NaN      NaN      NaN      NaN      NaN      NaN   \n",
      "4        NaN           NaN      NaN      NaN      NaN      NaN      NaN   \n",
      "..       ...           ...      ...      ...      ...      ...      ...   \n",
      "995      NaN           NaN      NaN      NaN      NaN      NaN      NaN   \n",
      "996      NaN           NaN      NaN      NaN      NaN      NaN      NaN   \n",
      "997      NaN           NaN      NaN      NaN      NaN      NaN      NaN   \n",
      "998      NaN           NaN      NaN      NaN      NaN      NaN      NaN   \n",
      "999      NaN           NaN      NaN      NaN      NaN      NaN      NaN   \n",
      "\n",
      "    EKGRP__c  \n",
      "0        NaN  \n",
      "1        NaN  \n",
      "2        NaN  \n",
      "3        NaN  \n",
      "4        NaN  \n",
      "..       ...  \n",
      "995      NaN  \n",
      "996      NaN  \n",
      "997      NaN  \n",
      "998      NaN  \n",
      "999      NaN  \n",
      "\n",
      "[1000 rows x 16 columns]\n"
     ]
    }
   ],
   "source": [
    "print(new_df)"
   ]
  },
  {
   "cell_type": "code",
   "execution_count": 237,
   "metadata": {},
   "outputs": [
    {
     "name": "stdout",
     "output_type": "stream",
     "text": [
      "Row Number is SFDC EXt is===> 1\n",
      "outside 5300126282J314\n",
      "inside 5300126282J314\n",
      "1st required Column Id column of SFDC===> a9B10000001QCidEAG\n",
      "2nd required Column Info Rec. column of EINE===> 5300126282\n",
      "3rd required Column Info Rec. column of EINE===> 5300126282\n",
      "4th required Column Info Rec. column of EINA===>\n",
      "5th required Column Info Rec. column of EINA===>\n",
      "6th required Column Info Rec. column of EINE===> J314\n",
      "7th required Column Info Rec. column of EINA===>\n",
      "8th required Column Info Rec. column of EINE===> 0\n",
      "9th required Order_Unit__c Column Info Rec. column of EINA===>\n",
      "10th required MATKL__c Column Info Rec. column of ===>\n",
      "11th required APLFZ__c Column Info Rec. column of EINE===> 1\n",
      "12th required EKORG Column Info Rec. column of EINE===> 2800\n",
      "13th required PEINH__c Column Info Rec. column of EINE===> 1\n",
      "14th required Tax_code Column Info Rec. column of EINE===> W1\n",
      "15th required EKGRP__c Column Info Rec. column of EINE===> T14\n",
      "Row Number is SFDC EXt is===> 43134\n",
      "outside 5300158031J309\n",
      "inside 5300158031J309\n",
      "1st required Column Id column of SFDC===> a9B10000001QGYOEA4\n",
      "2nd required Column Info Rec. column of EINE===> 5300158031\n",
      "3rd required Column Info Rec. column of EINE===> 5300158031\n",
      "4th required Column Info Rec. column of EINA===>\n",
      "5th required Column Info Rec. column of EINA===>\n",
      "6th required Column Info Rec. column of EINE===> J309\n",
      "7th required Column Info Rec. column of EINA===>\n",
      "8th required Column Info Rec. column of EINE===> 0\n",
      "9th required Order_Unit__c Column Info Rec. column of EINA===>\n",
      "10th required MATKL__c Column Info Rec. column of ===>\n",
      "11th required APLFZ__c Column Info Rec. column of EINE===> 1\n",
      "12th required EKORG Column Info Rec. column of EINE===> 2800\n",
      "13th required PEINH__c Column Info Rec. column of EINE===> 1\n",
      "14th required Tax_code Column Info Rec. column of EINE===> W1\n",
      "15th required EKGRP__c Column Info Rec. column of EINE===> T14\n",
      "Row Number is SFDC EXt is===> 72988\n",
      "outside 5300158031J347\n",
      "inside 5300158031J347\n",
      "1st required Column Id column of SFDC===> a9B1000000268Y5EAI\n",
      "2nd required Column Info Rec. column of EINE===> 5300158031\n",
      "3rd required Column Info Rec. column of EINE===> 5300158031\n",
      "4th required Column Info Rec. column of EINA===>\n",
      "5th required Column Info Rec. column of EINA===>\n",
      "6th required Column Info Rec. column of EINE===> J347\n",
      "7th required Column Info Rec. column of EINA===>\n",
      "8th required Column Info Rec. column of EINE===> 0\n",
      "9th required Order_Unit__c Column Info Rec. column of EINA===>\n",
      "10th required MATKL__c Column Info Rec. column of ===>\n",
      "11th required APLFZ__c Column Info Rec. column of EINE===> 1\n",
      "12th required EKORG Column Info Rec. column of EINE===> 2800\n",
      "13th required PEINH__c Column Info Rec. column of EINE===> 1\n",
      "14th required Tax_code Column Info Rec. column of EINE===> W1\n",
      "15th required EKGRP__c Column Info Rec. column of EINE===> T14\n",
      "Row Number is SFDC EXt is===> 72989\n",
      "outside 5300158031J348\n",
      "inside 5300158031J348\n",
      "1st required Column Id column of SFDC===> a9B1000000268Y6EAI\n",
      "2nd required Column Info Rec. column of EINE===> 5300158031\n",
      "3rd required Column Info Rec. column of EINE===> 5300158031\n",
      "4th required Column Info Rec. column of EINA===>\n",
      "5th required Column Info Rec. column of EINA===>\n",
      "6th required Column Info Rec. column of EINE===> J348\n",
      "7th required Column Info Rec. column of EINA===>\n",
      "8th required Column Info Rec. column of EINE===> 0\n",
      "9th required Order_Unit__c Column Info Rec. column of EINA===>\n",
      "10th required MATKL__c Column Info Rec. column of ===>\n",
      "11th required APLFZ__c Column Info Rec. column of EINE===> 1\n",
      "12th required EKORG Column Info Rec. column of EINE===> 2800\n",
      "13th required PEINH__c Column Info Rec. column of EINE===> 1\n",
      "14th required Tax_code Column Info Rec. column of EINE===> W1\n",
      "15th required EKGRP__c Column Info Rec. column of EINE===> T14\n",
      "Row Number is SFDC EXt is===> 6904\n",
      "outside 5309568397J309\n",
      "inside 5309568397J309\n",
      "1st required Column Id column of SFDC===> a9B10000000uJXYEA2\n",
      "2nd required Column Info Rec. column of EINE===> 5309568397\n",
      "3rd required Column Info Rec. column of EINE===> 5309568397\n",
      "4th required Column Info Rec. column of EINA===>\n",
      "5th required Column Info Rec. column of EINA===>\n",
      "6th required Column Info Rec. column of EINE===> J309\n",
      "7th required Column Info Rec. column of EINA===>\n",
      "8th required Column Info Rec. column of EINE===> 0\n",
      "9th required Order_Unit__c Column Info Rec. column of EINA===>\n",
      "10th required MATKL__c Column Info Rec. column of ===>\n",
      "11th required APLFZ__c Column Info Rec. column of EINE===> 1\n",
      "12th required EKORG Column Info Rec. column of EINE===> 2800\n",
      "13th required PEINH__c Column Info Rec. column of EINE===> 1\n",
      "14th required Tax_code Column Info Rec. column of EINE===> W1\n",
      "15th required EKGRP__c Column Info Rec. column of EINE===> T14\n",
      "Row Number is SFDC EXt is===> 6905\n",
      "outside 5309573196abc\n",
      "inside 5309573196abc\n",
      "1st required Column Id column of SFDC===> a9B10000000uJXZEA2\n",
      "2nd required Column Info Rec. column of EINE===> 5309573196\n",
      "3rd required Column Info Rec. column of EINE===> 5309573196\n",
      "4th required Column Info Rec. column of EINA===>\n",
      "5th required Column Info Rec. column of EINA===>\n",
      "6th required Column Info Rec. column of EINE===> abc\n",
      "7th required Column Info Rec. column of EINA===>\n",
      "8th required Column Info Rec. column of EINE===> 0\n",
      "9th required Order_Unit__c Column Info Rec. column of EINA===>\n",
      "10th required MATKL__c Column Info Rec. column of ===>\n",
      "11th required APLFZ__c Column Info Rec. column of EINE===> 1\n",
      "12th required EKORG Column Info Rec. column of EINE===> 2800\n",
      "13th required PEINH__c Column Info Rec. column of EINE===> 1\n",
      "14th required Tax_code Column Info Rec. column of EINE===> W1\n",
      "15th required EKGRP__c Column Info Rec. column of EINE===> T14\n",
      "Row Number is SFDC EXt is===> 6906\n",
      "outside 5309596671abc\n",
      "inside 5309596671abc\n",
      "1st required Column Id column of SFDC===> a9B10000000uJXaEAM\n",
      "2nd required Column Info Rec. column of EINE===> 5309596671\n",
      "3rd required Column Info Rec. column of EINE===> 5309596671\n",
      "4th required Column Info Rec. column of EINA===>\n",
      "5th required Column Info Rec. column of EINA===>\n",
      "6th required Column Info Rec. column of EINE===> abc\n",
      "7th required Column Info Rec. column of EINA===>\n",
      "8th required Column Info Rec. column of EINE===> 1\n",
      "9th required Order_Unit__c Column Info Rec. column of EINA===>\n",
      "10th required MATKL__c Column Info Rec. column of ===>\n",
      "11th required APLFZ__c Column Info Rec. column of EINE===> 1\n",
      "12th required EKORG Column Info Rec. column of EINE===> 2800\n",
      "13th required PEINH__c Column Info Rec. column of EINE===> 1\n",
      "14th required Tax_code Column Info Rec. column of EINE===> W1\n",
      "15th required EKGRP__c Column Info Rec. column of EINE===> T25\n",
      "Row Number is SFDC EXt is===> 6907\n",
      "outside 5309596672abc\n",
      "inside 5309596672abc\n",
      "1st required Column Id column of SFDC===> a9B10000000uJXbEAM\n",
      "2nd required Column Info Rec. column of EINE===> 5309596672\n",
      "3rd required Column Info Rec. column of EINE===> 5309596672\n",
      "4th required Column Info Rec. column of EINA===>\n",
      "5th required Column Info Rec. column of EINA===>\n",
      "6th required Column Info Rec. column of EINE===> abc\n",
      "7th required Column Info Rec. column of EINA===>\n",
      "8th required Column Info Rec. column of EINE===> 1\n",
      "9th required Order_Unit__c Column Info Rec. column of EINA===>\n",
      "10th required MATKL__c Column Info Rec. column of ===>\n",
      "11th required APLFZ__c Column Info Rec. column of EINE===> 1\n",
      "12th required EKORG Column Info Rec. column of EINE===> 2800\n",
      "13th required PEINH__c Column Info Rec. column of EINE===> 1\n",
      "14th required Tax_code Column Info Rec. column of EINE===> W1\n",
      "15th required EKGRP__c Column Info Rec. column of EINE===> T25\n"
     ]
    }
   ],
   "source": [
    "for ind in read_xlsx1.index:\n",
    "    #print(ind,read_xlsx1['Purchasing Info Rec.'][ind] )\n",
    "    count=0\n",
    "    a = read_xlsx1['Purchasing Info Rec.'][ind].astype(str)+read_xlsx1['Plant'][ind]\n",
    "    #print('a is== outside ==>',a)\n",
    "    for ind1 in read_temp_PIR.index:\n",
    "        count += 1\n",
    "        b = read_temp_PIR['INFNR__c'][ind1].astype(str)\n",
    "        c = read_temp_PIR['WERKS__c'][ind1]\n",
    "        b = read_temp_PIR['INFNR__c'][ind1].astype(str)+read_temp_PIR['WERKS__c'][ind1]\n",
    "        #print('b is ==inside==>',b,'count== is =>',count)\n",
    "        if( b == a ):\n",
    "            print('Row Number is SFDC EXt is===>',count)\n",
    "            print('outside',a)\n",
    "            print('inside',b)\n",
    "            print('1st required Column Id column of SFDC===>',read_temp_PIR['Id'][ind1])\n",
    "            print('2nd required Column Info Rec. column of EINE===>',read_xlsx1['Purchasing Info Rec.'][ind])\n",
    "            print('3rd required Column Info Rec. column of EINE===>',read_xlsx1['Purchasing Info Rec.'][ind])\n",
    "            print('4th required Column Info Rec. column of EINA===>')\n",
    "            print('5th required Column Info Rec. column of EINA===>')\n",
    "            print('6th required Column Info Rec. column of EINE===>',read_xlsx1['Plant'][ind])\n",
    "            print('7th required Column Info Rec. column of EINA===>')\n",
    "            print('8th required Column Info Rec. column of EINE===>',read_xlsx1['Minimum Order Qty'][ind])\n",
    "            print('9th required Order_Unit__c Column Info Rec. column of EINA===>')\n",
    "            print('10th required MATKL__c Column Info Rec. column of ===>')\n",
    "            print('11th required APLFZ__c Column Info Rec. column of EINE===>',read_xlsx1['Planned Deliv. Time'][ind])\n",
    "            print('12th required EKORG Column Info Rec. column of EINE===>',read_xlsx1['Purch. Organization'][ind])\n",
    "            print('13th required PEINH__c Column Info Rec. column of EINE===>',read_xlsx1['Price Unit'][ind])\n",
    "            print('14th required Tax_code Column Info Rec. column of EINE===>',read_xlsx1['Tax code'][ind])\n",
    "            print('15th required EKGRP__c Column Info Rec. column of EINE===>',read_xlsx1['Purchasing Group'][ind])\n",
    "            new_df['Id'][ind]=read_temp_PIR['Id'][ind1]\n",
    "            new_df['Name'][ind]=read_xlsx1['Purchasing Info Rec.'][ind]\n",
    "            new_df['INFNR__c'][ind]=read_xlsx1['Purchasing Info Rec.'][ind]\n",
    "            new_df['WERKS__c'][ind] = read_xlsx1['Plant'][ind]\n",
    "            new_df['MINBM__c'][ind] = read_xlsx1['Minimum Order Qty'][ind]\n",
    "            new_df['APLFZ__c'][ind] = read_xlsx1['Planned Deliv. Time'][ind]\n",
    "            new_df['EKORG__C'][ind] = read_xlsx1['Purch. Organization'][ind]\n",
    "            new_df['PEINH__c'][ind] = read_xlsx1['Price Unit'][ind]\n",
    "            new_df['MWSKZ__c'][ind] = read_xlsx1['Tax code'][ind]\n",
    "            new_df['EKGRP__c'][ind] = read_xlsx1['Purchasing Group'][ind]\n",
    "            break\n",
    "    #break\n",
    "        #if(count == 8):\n",
    "         #break\n"
   ]
  },
  {
   "cell_type": "code",
   "execution_count": 235,
   "metadata": {},
   "outputs": [
    {
     "name": "stdout",
     "output_type": "stream",
     "text": [
      "Id               a9B10000001QCidEAG\n",
      "Name                     5300126282\n",
      "INFNR__c                 5300126282\n",
      "LIFNR__c                        NaN\n",
      "MATNR__c                        NaN\n",
      "WERKS__c                       J314\n",
      "IDNLF__c                        NaN\n",
      "Lot_Info__c                     NaN\n",
      "MINBM__c                          0\n",
      "Order_Unit__c                   NaN\n",
      "MATKL__c                        NaN\n",
      "APLFZ__c                          1\n",
      "PEINH__c                          1\n",
      "EKORG__C                       2800\n",
      "MWSKZ__c                         W1\n",
      "EKGRP__c                        T14\n",
      "Name: 0, dtype: object\n"
     ]
    }
   ],
   "source": [
    "print(new_df.loc[0])"
   ]
  },
  {
   "cell_type": "code",
   "execution_count": null,
   "metadata": {},
   "outputs": [],
   "source": []
  },
  {
   "cell_type": "code",
   "execution_count": 238,
   "metadata": {},
   "outputs": [],
   "source": [
    "# create excel writer\n",
    "temp_prepare = pd.ExcelWriter('C:\\\\Users\\\\mohd.abdul.basith.DIR\\\\Downloads\\\\new_file.xlsx')\n",
    "# write dataframe to excel sheet named 'marks'\n",
    "new_df.to_excel(temp_prepare, 'TEMPLATE')\n",
    "# save the excel file\n",
    "temp_prepare.save()"
   ]
  },
  {
   "cell_type": "code",
   "execution_count": null,
   "metadata": {},
   "outputs": [],
   "source": []
  }
 ],
 "metadata": {
  "kernelspec": {
   "display_name": "Python 3",
   "language": "python",
   "name": "python3"
  },
  "language_info": {
   "codemirror_mode": {
    "name": "ipython",
    "version": 3
   },
   "file_extension": ".py",
   "mimetype": "text/x-python",
   "name": "python",
   "nbconvert_exporter": "python",
   "pygments_lexer": "ipython3",
   "version": "3.7.4"
  }
 },
 "nbformat": 4,
 "nbformat_minor": 2
}
