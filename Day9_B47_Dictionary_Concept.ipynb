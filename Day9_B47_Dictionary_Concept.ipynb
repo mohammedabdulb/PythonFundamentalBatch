{
 "cells": [
  {
   "cell_type": "code",
   "execution_count": 1,
   "metadata": {},
   "outputs": [],
   "source": [
    "myaccount = {'loginurl':'login.salesforce.com','username':'abdulbasith.salesforce.com','password':'abc@12345'}"
   ]
  },
  {
   "cell_type": "code",
   "execution_count": 2,
   "metadata": {},
   "outputs": [
    {
     "name": "stdout",
     "output_type": "stream",
     "text": [
      "{'loginurl': 'login.salesforce.com', 'username': 'abdulbasith.salesforce.com', 'password': 'abc@12345'}\n"
     ]
    }
   ],
   "source": [
    "print(myaccount)"
   ]
  },
  {
   "cell_type": "code",
   "execution_count": 3,
   "metadata": {},
   "outputs": [],
   "source": [
    "#access value from key"
   ]
  },
  {
   "cell_type": "code",
   "execution_count": 4,
   "metadata": {},
   "outputs": [
    {
     "name": "stdout",
     "output_type": "stream",
     "text": [
      "login.salesforce.com\n"
     ]
    }
   ],
   "source": [
    "print(myaccount['loginurl'])"
   ]
  },
  {
   "cell_type": "code",
   "execution_count": 5,
   "metadata": {},
   "outputs": [],
   "source": [
    "#Modify a key & value pair\n",
    "myaccount['loginurl'] = 'test.salesforce.com'"
   ]
  },
  {
   "cell_type": "code",
   "execution_count": 6,
   "metadata": {},
   "outputs": [
    {
     "name": "stdout",
     "output_type": "stream",
     "text": [
      "test.salesforce.com\n"
     ]
    }
   ],
   "source": [
    "print(myaccount['loginurl'])"
   ]
  },
  {
   "cell_type": "code",
   "execution_count": 7,
   "metadata": {},
   "outputs": [
    {
     "name": "stdout",
     "output_type": "stream",
     "text": [
      "{'loginurl': 'test.salesforce.com', 'username': 'abdulbasith.salesforce.com', 'password': 'abc@12345'}\n"
     ]
    }
   ],
   "source": [
    "print(myaccount)\n",
    "Note :- Here we have changed the value of 'loginurl' key"
   ]
  },
  {
   "cell_type": "code",
   "execution_count": 8,
   "metadata": {},
   "outputs": [
    {
     "name": "stdout",
     "output_type": "stream",
     "text": [
      "{'loginurl': 'test.salesforce.com', 'username': 'abdulbasith.salesforce.com', 'password': 'abc@12345', 'instance': 'na147'}\n"
     ]
    }
   ],
   "source": [
    "# Add key , Value pair\n",
    "myaccount['instance'] = 'na147'\n",
    "print(myaccount)\n",
    "Note :- here new key and value pair is added in the last of already defined dictionary. "
   ]
  },
  {
   "cell_type": "code",
   "execution_count": 10,
   "metadata": {},
   "outputs": [
    {
     "name": "stdout",
     "output_type": "stream",
     "text": [
      "{'loginurl': 'test.salesforce.com', 'username': 'abdulbasith.salesforce.com', 'password': 'abc@12345'}\n"
     ]
    }
   ],
   "source": [
    "# Deleting the Key & Value pair\n",
    "del myaccount['instance']\n",
    "print(myaccount)"
   ]
  },
  {
   "cell_type": "code",
   "execution_count": null,
   "metadata": {},
   "outputs": [],
   "source": [
    "Note :- Here we are using key as an indexing point , to get/fetch the value , to delete the key , value pair."
   ]
  }
 ],
 "metadata": {
  "kernelspec": {
   "display_name": "Python 3",
   "language": "python",
   "name": "python3"
  },
  "language_info": {
   "codemirror_mode": {
    "name": "ipython",
    "version": 3
   },
   "file_extension": ".py",
   "mimetype": "text/x-python",
   "name": "python",
   "nbconvert_exporter": "python",
   "pygments_lexer": "ipython3",
   "version": "3.7.4"
  }
 },
 "nbformat": 4,
 "nbformat_minor": 2
}
